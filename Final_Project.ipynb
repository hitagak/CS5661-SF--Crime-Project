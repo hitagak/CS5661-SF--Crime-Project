{
 "cells": [
  {
   "cell_type": "code",
   "execution_count": 3,
   "metadata": {
    "collapsed": true
   },
   "outputs": [],
   "source": [
    "import numpy as np\n",
    "import pandas as pd\n",
    "from sklearn.model_selection import train_test_split\n",
    "from sklearn.metrics import accuracy_score\n",
    "from sklearn.model_selection import cross_val_score\n",
    "from sklearn.tree import DecisionTreeClassifier\n",
    "import time\n",
    "import datetime\n",
    "from collections import Counter"
   ]
  },
  {
   "cell_type": "code",
   "execution_count": 4,
   "metadata": {},
   "outputs": [
    {
     "data": {
      "text/html": [
       "<div>\n",
       "<style>\n",
       "    .dataframe thead tr:only-child th {\n",
       "        text-align: right;\n",
       "    }\n",
       "\n",
       "    .dataframe thead th {\n",
       "        text-align: left;\n",
       "    }\n",
       "\n",
       "    .dataframe tbody tr th {\n",
       "        vertical-align: top;\n",
       "    }\n",
       "</style>\n",
       "<table border=\"1\" class=\"dataframe\">\n",
       "  <thead>\n",
       "    <tr style=\"text-align: right;\">\n",
       "      <th></th>\n",
       "      <th>Dates</th>\n",
       "      <th>DayOfWeek</th>\n",
       "      <th>PdDistrict</th>\n",
       "      <th>Address</th>\n",
       "      <th>X</th>\n",
       "      <th>Y</th>\n",
       "      <th>Category</th>\n",
       "    </tr>\n",
       "  </thead>\n",
       "  <tbody>\n",
       "    <tr>\n",
       "      <th>0</th>\n",
       "      <td>2/21/2013 2:35</td>\n",
       "      <td>Thursday</td>\n",
       "      <td>MISSION</td>\n",
       "      <td>TREAT AV / 17TH ST</td>\n",
       "      <td>-122.413592</td>\n",
       "      <td>37.763822</td>\n",
       "      <td>PROSTITUTION</td>\n",
       "    </tr>\n",
       "    <tr>\n",
       "      <th>1</th>\n",
       "      <td>2/19/2007 18:31</td>\n",
       "      <td>Monday</td>\n",
       "      <td>SOUTHERN</td>\n",
       "      <td>MCALLISTER ST / JONES ST</td>\n",
       "      <td>-122.411979</td>\n",
       "      <td>37.780904</td>\n",
       "      <td>OTHER OFFENSES</td>\n",
       "    </tr>\n",
       "    <tr>\n",
       "      <th>2</th>\n",
       "      <td>4/2/2012 19:11</td>\n",
       "      <td>Monday</td>\n",
       "      <td>PARK</td>\n",
       "      <td>1500 Block of HAIGHT ST</td>\n",
       "      <td>-122.447761</td>\n",
       "      <td>37.769846</td>\n",
       "      <td>LIQUOR LAWS</td>\n",
       "    </tr>\n",
       "    <tr>\n",
       "      <th>3</th>\n",
       "      <td>1/1/2006 18:30</td>\n",
       "      <td>Sunday</td>\n",
       "      <td>BAYVIEW</td>\n",
       "      <td>25TH ST / WISCONSIN ST</td>\n",
       "      <td>-122.398454</td>\n",
       "      <td>37.752195</td>\n",
       "      <td>ROBBERY</td>\n",
       "    </tr>\n",
       "    <tr>\n",
       "      <th>4</th>\n",
       "      <td>2/21/2014 20:10</td>\n",
       "      <td>Friday</td>\n",
       "      <td>INGLESIDE</td>\n",
       "      <td>3200 Block of MISSION ST</td>\n",
       "      <td>-122.420395</td>\n",
       "      <td>37.744688</td>\n",
       "      <td>NON-CRIMINAL</td>\n",
       "    </tr>\n",
       "  </tbody>\n",
       "</table>\n",
       "</div>"
      ],
      "text/plain": [
       "             Dates DayOfWeek PdDistrict                   Address           X  \\\n",
       "0   2/21/2013 2:35  Thursday    MISSION        TREAT AV / 17TH ST -122.413592   \n",
       "1  2/19/2007 18:31    Monday   SOUTHERN  MCALLISTER ST / JONES ST -122.411979   \n",
       "2   4/2/2012 19:11    Monday       PARK   1500 Block of HAIGHT ST -122.447761   \n",
       "3   1/1/2006 18:30    Sunday    BAYVIEW    25TH ST / WISCONSIN ST -122.398454   \n",
       "4  2/21/2014 20:10    Friday  INGLESIDE  3200 Block of MISSION ST -122.420395   \n",
       "\n",
       "           Y        Category  \n",
       "0  37.763822    PROSTITUTION  \n",
       "1  37.780904  OTHER OFFENSES  \n",
       "2  37.769846     LIQUOR LAWS  \n",
       "3  37.752195         ROBBERY  \n",
       "4  37.744688    NON-CRIMINAL  "
      ]
     },
     "execution_count": 4,
     "metadata": {},
     "output_type": "execute_result"
    }
   ],
   "source": [
    "# read the dataset\n",
    "df = pd.read_csv('data_35000.csv')\n",
    "\n",
    "df.head()"
   ]
  },
  {
   "cell_type": "code",
   "execution_count": null,
   "metadata": {
    "collapsed": true
   },
   "outputs": [],
   "source": [
    "# Our project is to predict Category(label) from 6 features(Dates, DayOfWeek, PdDistrict, Address,X(Longitude),Y(Latitude)).\n",
    "\n",
    "# First, split the dataset into training and testing\n",
    "\n",
    "# then try random forest, ada boost, Logistic regression, ANN classifier, and get accuracy (ideally, over 80%)\n",
    "\n"
   ]
  }
 ],
 "metadata": {
  "kernelspec": {
   "display_name": "Python 3",
   "language": "python",
   "name": "python3"
  },
  "language_info": {
   "codemirror_mode": {
    "name": "ipython",
    "version": 3
   },
   "file_extension": ".py",
   "mimetype": "text/x-python",
   "name": "python",
   "nbconvert_exporter": "python",
   "pygments_lexer": "ipython3",
   "version": "3.6.1"
  }
 },
 "nbformat": 4,
 "nbformat_minor": 2
}
