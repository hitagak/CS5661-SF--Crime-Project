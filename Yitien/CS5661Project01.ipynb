{
 "cells": [
  {
   "cell_type": "markdown",
   "metadata": {},
   "source": [
    "## <center> San Francisco Crime Classification </center>"
   ]
  },
  {
   "cell_type": "code",
   "execution_count": 9,
   "metadata": {},
   "outputs": [],
   "source": [
    "import numpy as np\n",
    "import pandas as pd\n",
    "\n",
    "import time\n",
    "import datetime\n",
    "\n",
    "import matplotlib.pyplot as plt\n",
    "# for visualization\n",
    "import sklearn\n",
    "\n",
    "from collections import Counter\n",
    "\n",
    "from sklearn.model_selection import train_test_split\n",
    "from sklearn.metrics import accuracy_score"
   ]
  },
  {
   "cell_type": "markdown",
   "metadata": {},
   "source": [
    "### Show Data Frame"
   ]
  },
  {
   "cell_type": "code",
   "execution_count": 10,
   "metadata": {},
   "outputs": [
    {
     "data": {
      "text/html": [
       "<div>\n",
       "<style scoped>\n",
       "    .dataframe tbody tr th:only-of-type {\n",
       "        vertical-align: middle;\n",
       "    }\n",
       "\n",
       "    .dataframe tbody tr th {\n",
       "        vertical-align: top;\n",
       "    }\n",
       "\n",
       "    .dataframe thead th {\n",
       "        text-align: right;\n",
       "    }\n",
       "</style>\n",
       "<table border=\"1\" class=\"dataframe\">\n",
       "  <thead>\n",
       "    <tr style=\"text-align: right;\">\n",
       "      <th></th>\n",
       "      <th>Dates</th>\n",
       "      <th>Descript</th>\n",
       "      <th>DayOfWeek</th>\n",
       "      <th>PdDistrict</th>\n",
       "      <th>Resolution</th>\n",
       "      <th>Address</th>\n",
       "      <th>X</th>\n",
       "      <th>Y</th>\n",
       "      <th>Category</th>\n",
       "    </tr>\n",
       "  </thead>\n",
       "  <tbody>\n",
       "    <tr>\n",
       "      <th>0</th>\n",
       "      <td>10/17/2005 10:00</td>\n",
       "      <td>VEHICLE, RECOVERED, OTHER VEHICLE</td>\n",
       "      <td>Monday</td>\n",
       "      <td>CENTRAL</td>\n",
       "      <td>NONE</td>\n",
       "      <td>LARKIN ST / BEACH ST</td>\n",
       "      <td>-122.422199</td>\n",
       "      <td>37.806435</td>\n",
       "      <td>VEHICLE THEFT</td>\n",
       "    </tr>\n",
       "    <tr>\n",
       "      <th>1</th>\n",
       "      <td>8/6/2012 21:00</td>\n",
       "      <td>GRAND THEFT FROM LOCKED AUTO</td>\n",
       "      <td>Monday</td>\n",
       "      <td>INGLESIDE</td>\n",
       "      <td>NONE</td>\n",
       "      <td>300 Block of FRANCONIA ST</td>\n",
       "      <td>-122.407633</td>\n",
       "      <td>37.744617</td>\n",
       "      <td>LARCENY/THEFT</td>\n",
       "    </tr>\n",
       "    <tr>\n",
       "      <th>2</th>\n",
       "      <td>3/6/2015 18:05</td>\n",
       "      <td>DRIVERS LICENSE, SUSPENDED OR REVOKED</td>\n",
       "      <td>Friday</td>\n",
       "      <td>BAYVIEW</td>\n",
       "      <td>ARREST, BOOKED</td>\n",
       "      <td>REVERE AV / KEITH ST</td>\n",
       "      <td>-122.388295</td>\n",
       "      <td>37.730608</td>\n",
       "      <td>OTHER OFFENSES</td>\n",
       "    </tr>\n",
       "    <tr>\n",
       "      <th>3</th>\n",
       "      <td>7/22/2008 19:32</td>\n",
       "      <td>POSSESSION OF METH-AMPHETAMINE</td>\n",
       "      <td>Tuesday</td>\n",
       "      <td>INGLESIDE</td>\n",
       "      <td>ARREST, BOOKED</td>\n",
       "      <td>100 Block of TINGLEY ST</td>\n",
       "      <td>-122.434391</td>\n",
       "      <td>37.729557</td>\n",
       "      <td>DRUG/NARCOTIC</td>\n",
       "    </tr>\n",
       "    <tr>\n",
       "      <th>4</th>\n",
       "      <td>9/6/2014 5:45</td>\n",
       "      <td>ROBBERY ON THE STREET, STRONGARM</td>\n",
       "      <td>Saturday</td>\n",
       "      <td>CENTRAL</td>\n",
       "      <td>NONE</td>\n",
       "      <td>900 Block of SUTTER ST</td>\n",
       "      <td>-122.416011</td>\n",
       "      <td>37.788227</td>\n",
       "      <td>ROBBERY</td>\n",
       "    </tr>\n",
       "  </tbody>\n",
       "</table>\n",
       "</div>"
      ],
      "text/plain": [
       "              Dates                               Descript DayOfWeek  \\\n",
       "0  10/17/2005 10:00      VEHICLE, RECOVERED, OTHER VEHICLE    Monday   \n",
       "1    8/6/2012 21:00           GRAND THEFT FROM LOCKED AUTO    Monday   \n",
       "2    3/6/2015 18:05  DRIVERS LICENSE, SUSPENDED OR REVOKED    Friday   \n",
       "3   7/22/2008 19:32         POSSESSION OF METH-AMPHETAMINE   Tuesday   \n",
       "4     9/6/2014 5:45       ROBBERY ON THE STREET, STRONGARM  Saturday   \n",
       "\n",
       "  PdDistrict      Resolution                    Address           X  \\\n",
       "0    CENTRAL            NONE       LARKIN ST / BEACH ST -122.422199   \n",
       "1  INGLESIDE            NONE  300 Block of FRANCONIA ST -122.407633   \n",
       "2    BAYVIEW  ARREST, BOOKED       REVERE AV / KEITH ST -122.388295   \n",
       "3  INGLESIDE  ARREST, BOOKED    100 Block of TINGLEY ST -122.434391   \n",
       "4    CENTRAL            NONE     900 Block of SUTTER ST -122.416011   \n",
       "\n",
       "           Y        Category  \n",
       "0  37.806435   VEHICLE THEFT  \n",
       "1  37.744617   LARCENY/THEFT  \n",
       "2  37.730608  OTHER OFFENSES  \n",
       "3  37.729557   DRUG/NARCOTIC  \n",
       "4  37.788227         ROBBERY  "
      ]
     },
     "execution_count": 10,
     "metadata": {},
     "output_type": "execute_result"
    }
   ],
   "source": [
    "# read the dataset and generate dataframe\n",
    "crime_df = pd.read_csv('data_20000.csv')\n",
    "crime_df.head()"
   ]
  },
  {
   "cell_type": "markdown",
   "metadata": {},
   "source": [
    "### Convert Dates into miliseconds"
   ]
  },
  {
   "cell_type": "code",
   "execution_count": 11,
   "metadata": {},
   "outputs": [
    {
     "data": {
      "text/html": [
       "<div>\n",
       "<style scoped>\n",
       "    .dataframe tbody tr th:only-of-type {\n",
       "        vertical-align: middle;\n",
       "    }\n",
       "\n",
       "    .dataframe tbody tr th {\n",
       "        vertical-align: top;\n",
       "    }\n",
       "\n",
       "    .dataframe thead th {\n",
       "        text-align: right;\n",
       "    }\n",
       "</style>\n",
       "<table border=\"1\" class=\"dataframe\">\n",
       "  <thead>\n",
       "    <tr style=\"text-align: right;\">\n",
       "      <th></th>\n",
       "      <th>Dates</th>\n",
       "      <th>Descript</th>\n",
       "      <th>DayOfWeek</th>\n",
       "      <th>PdDistrict</th>\n",
       "      <th>Resolution</th>\n",
       "      <th>Address</th>\n",
       "      <th>X</th>\n",
       "      <th>Y</th>\n",
       "      <th>Category</th>\n",
       "    </tr>\n",
       "  </thead>\n",
       "  <tbody>\n",
       "    <tr>\n",
       "      <th>0</th>\n",
       "      <td>1129.56840</td>\n",
       "      <td>VEHICLE, RECOVERED, OTHER VEHICLE</td>\n",
       "      <td>Monday</td>\n",
       "      <td>CENTRAL</td>\n",
       "      <td>NONE</td>\n",
       "      <td>LARKIN ST / BEACH ST</td>\n",
       "      <td>-122.422199</td>\n",
       "      <td>37.806435</td>\n",
       "      <td>VEHICLE THEFT</td>\n",
       "    </tr>\n",
       "    <tr>\n",
       "      <th>1</th>\n",
       "      <td>1344.31200</td>\n",
       "      <td>GRAND THEFT FROM LOCKED AUTO</td>\n",
       "      <td>Monday</td>\n",
       "      <td>INGLESIDE</td>\n",
       "      <td>NONE</td>\n",
       "      <td>300 Block of FRANCONIA ST</td>\n",
       "      <td>-122.407633</td>\n",
       "      <td>37.744617</td>\n",
       "      <td>LARCENY/THEFT</td>\n",
       "    </tr>\n",
       "    <tr>\n",
       "      <th>2</th>\n",
       "      <td>1425.69390</td>\n",
       "      <td>DRIVERS LICENSE, SUSPENDED OR REVOKED</td>\n",
       "      <td>Friday</td>\n",
       "      <td>BAYVIEW</td>\n",
       "      <td>ARREST, BOOKED</td>\n",
       "      <td>REVERE AV / KEITH ST</td>\n",
       "      <td>-122.388295</td>\n",
       "      <td>37.730608</td>\n",
       "      <td>OTHER OFFENSES</td>\n",
       "    </tr>\n",
       "    <tr>\n",
       "      <th>3</th>\n",
       "      <td>1216.78032</td>\n",
       "      <td>POSSESSION OF METH-AMPHETAMINE</td>\n",
       "      <td>Tuesday</td>\n",
       "      <td>INGLESIDE</td>\n",
       "      <td>ARREST, BOOKED</td>\n",
       "      <td>100 Block of TINGLEY ST</td>\n",
       "      <td>-122.434391</td>\n",
       "      <td>37.729557</td>\n",
       "      <td>DRUG/NARCOTIC</td>\n",
       "    </tr>\n",
       "    <tr>\n",
       "      <th>4</th>\n",
       "      <td>1410.00750</td>\n",
       "      <td>ROBBERY ON THE STREET, STRONGARM</td>\n",
       "      <td>Saturday</td>\n",
       "      <td>CENTRAL</td>\n",
       "      <td>NONE</td>\n",
       "      <td>900 Block of SUTTER ST</td>\n",
       "      <td>-122.416011</td>\n",
       "      <td>37.788227</td>\n",
       "      <td>ROBBERY</td>\n",
       "    </tr>\n",
       "  </tbody>\n",
       "</table>\n",
       "</div>"
      ],
      "text/plain": [
       "        Dates                               Descript DayOfWeek PdDistrict  \\\n",
       "0  1129.56840      VEHICLE, RECOVERED, OTHER VEHICLE    Monday    CENTRAL   \n",
       "1  1344.31200           GRAND THEFT FROM LOCKED AUTO    Monday  INGLESIDE   \n",
       "2  1425.69390  DRIVERS LICENSE, SUSPENDED OR REVOKED    Friday    BAYVIEW   \n",
       "3  1216.78032         POSSESSION OF METH-AMPHETAMINE   Tuesday  INGLESIDE   \n",
       "4  1410.00750       ROBBERY ON THE STREET, STRONGARM  Saturday    CENTRAL   \n",
       "\n",
       "       Resolution                    Address           X          Y  \\\n",
       "0            NONE       LARKIN ST / BEACH ST -122.422199  37.806435   \n",
       "1            NONE  300 Block of FRANCONIA ST -122.407633  37.744617   \n",
       "2  ARREST, BOOKED       REVERE AV / KEITH ST -122.388295  37.730608   \n",
       "3  ARREST, BOOKED    100 Block of TINGLEY ST -122.434391  37.729557   \n",
       "4            NONE     900 Block of SUTTER ST -122.416011  37.788227   \n",
       "\n",
       "         Category  \n",
       "0   VEHICLE THEFT  \n",
       "1   LARCENY/THEFT  \n",
       "2  OTHER OFFENSES  \n",
       "3   DRUG/NARCOTIC  \n",
       "4         ROBBERY  "
      ]
     },
     "execution_count": 11,
     "metadata": {},
     "output_type": "execute_result"
    }
   ],
   "source": [
    "# convert date to timestamp (milliseconds, divide by a million to get a more readable decimal)\n",
    "crime_df['Dates'] = crime_df['Dates'].apply(lambda x: time.mktime(time.strptime(x, '%m/%d/%Y %H:%M'))/1000000)\n",
    "\n",
    "crime_df.head()\n"
   ]
  },
  {
   "cell_type": "markdown",
   "metadata": {},
   "source": [
    "### Show Label"
   ]
  },
  {
   "cell_type": "code",
   "execution_count": 12,
   "metadata": {},
   "outputs": [
    {
     "name": "stdout",
     "output_type": "stream",
     "text": [
      "0                 VEHICLE THEFT\n",
      "1                 LARCENY/THEFT\n",
      "2                OTHER OFFENSES\n",
      "3                 DRUG/NARCOTIC\n",
      "4                       ROBBERY\n",
      "5                OTHER OFFENSES\n",
      "6                 LARCENY/THEFT\n",
      "7                SUSPICIOUS OCC\n",
      "8                OTHER OFFENSES\n",
      "9                  NON-CRIMINAL\n",
      "10       FORGERY/COUNTERFEITING\n",
      "11                DRUG/NARCOTIC\n",
      "12                      ROBBERY\n",
      "13                LARCENY/THEFT\n",
      "14                LARCENY/THEFT\n",
      "15                      ASSAULT\n",
      "16                  WEAPON LAWS\n",
      "17                DRUG/NARCOTIC\n",
      "18               OTHER OFFENSES\n",
      "19                      ASSAULT\n",
      "20               OTHER OFFENSES\n",
      "21       FORGERY/COUNTERFEITING\n",
      "22                      ASSAULT\n",
      "23                LARCENY/THEFT\n",
      "24                VEHICLE THEFT\n",
      "25                     WARRANTS\n",
      "26                     WARRANTS\n",
      "27                VEHICLE THEFT\n",
      "28                LARCENY/THEFT\n",
      "29                LARCENY/THEFT\n",
      "                  ...          \n",
      "19970                   ASSAULT\n",
      "19971              NON-CRIMINAL\n",
      "19972                 VANDALISM\n",
      "19973            MISSING PERSON\n",
      "19974            SUSPICIOUS OCC\n",
      "19975             VEHICLE THEFT\n",
      "19976                     FRAUD\n",
      "19977            SUSPICIOUS OCC\n",
      "19978            OTHER OFFENSES\n",
      "19979             LARCENY/THEFT\n",
      "19980             LARCENY/THEFT\n",
      "19981            OTHER OFFENSES\n",
      "19982             VEHICLE THEFT\n",
      "19983        DISORDERLY CONDUCT\n",
      "19984             LARCENY/THEFT\n",
      "19985             LARCENY/THEFT\n",
      "19986                   ASSAULT\n",
      "19987                   ASSAULT\n",
      "19988             LARCENY/THEFT\n",
      "19989                   ASSAULT\n",
      "19990            OTHER OFFENSES\n",
      "19991                KIDNAPPING\n",
      "19992                   ASSAULT\n",
      "19993                 VANDALISM\n",
      "19994            SUSPICIOUS OCC\n",
      "19995            OTHER OFFENSES\n",
      "19996                   ASSAULT\n",
      "19997                   ROBBERY\n",
      "19998               DRUNKENNESS\n",
      "19999            OTHER OFFENSES\n",
      "Name: Category, Length: 20000, dtype: object\n",
      "(20000,)\n"
     ]
    }
   ],
   "source": [
    "y = crime_df['Category'] \n",
    "\n",
    "print(y)\n",
    "print(y.shape)"
   ]
  },
  {
   "cell_type": "markdown",
   "metadata": {},
   "source": [
    "### Visualization Plotting"
   ]
  },
  {
   "cell_type": "code",
   "execution_count": 18,
   "metadata": {},
   "outputs": [
    {
     "data": {
      "text/plain": [
       "<matplotlib.axes._subplots.AxesSubplot at 0x1526fbaa240>"
      ]
     },
     "execution_count": 18,
     "metadata": {},
     "output_type": "execute_result"
    },
    {
     "data": {
      "image/png": "[encoded data removed]",
      "text/plain": [
       "<matplotlib.figure.Figure at 0x1526fb56400>"
      ]
     },
     "metadata": {},
     "output_type": "display_data"
    }
   ],
   "source": [
    "crime_df.Category.value_counts().plot(kind='barh', figsize=(10,8))"
   ]
  },
  {
   "cell_type": "code",
   "execution_count": 34,
   "metadata": {},
   "outputs": [
    {
     "data": {
      "text/plain": [
       "<matplotlib.axes._subplots.AxesSubplot at 0x1526ff260f0>"
      ]
     },
     "execution_count": 34,
     "metadata": {},
     "output_type": "execute_result"
    },
    {
     "data": {
      "image/png": "[encoded data removed]",
      "text/plain": [
       "<matplotlib.figure.Figure at 0x15270197e80>"
      ]
     },
     "metadata": {},
     "output_type": "display_data"
    }
   ],
   "source": [
    "df = pd.read_csv('data_20000.csv')\n",
    "df.Dates = pd.to_datetime(df.Dates)\n",
    "df.Dates.apply(lambda x: x.hour).value_counts().sort_index().plot(kind='line')\n",
    "\n",
    "# Number of cases in hours"
   ]
  },
  {
   "cell_type": "markdown",
   "metadata": {},
   "source": [
    "### Convert columns which is non-numeric data type to series of words. Each words will be a new column"
   ]
  },
  {
   "cell_type": "code",
   "execution_count": null,
   "metadata": {},
   "outputs": [],
   "source": [
    "my_list = ['Dates','Descript','DayOfWeek','PdDistrict','Resolution','Address','X','Y','Category']\n",
    "\n",
    "def string_to_series_of_words(x):    \n",
    "    return pd.Series(x.split(\" \"))\n",
    "\n",
    "\n",
    "for f in my_list[1:6]:\n",
    "    crime_df[f] = crime_df[f].apply(string_to_series_of_words)\n"
   ]
  },
  {
   "cell_type": "markdown",
   "metadata": {},
   "source": [
    "### use get_dummies to put dummy variables"
   ]
  },
  {
   "cell_type": "code",
   "execution_count": null,
   "metadata": {},
   "outputs": [],
   "source": [
    "crime_df=pd.get_dummies(crime_df,columns=['Descript','DayOfWeek','PdDistrict','Resolution','Address'],\n",
    "                  drop_first=False)\n",
    "\n",
    "crime_df.head()\n",
    "\n",
    "\n",
    "new_features = list(crime_df.dtypes.index)\n",
    "new_features.remove('Category')\n",
    "\n",
    "X = crime_df[new_features]\n",
    "\n",
    "print(X)\n",
    "\n",
    "print(new_features)\n",
    "\n",
    "print(\"\\nTotal features: \", len(new_features))"
   ]
  },
  {
   "cell_type": "markdown",
   "metadata": {},
   "source": [
    "## Try Various Classifiers"
   ]
  },
  {
   "cell_type": "markdown",
   "metadata": {},
   "source": [
    "### Decision Tree"
   ]
  },
  {
   "cell_type": "code",
   "execution_count": null,
   "metadata": {},
   "outputs": [],
   "source": [
    "from sklearn.tree import DecisionTreeClassifier\n",
    "\n",
    "X_train, X_test, y_train, y_test = train_test_split(X, y, test_size=0.1, random_state=1)\n",
    "\n",
    "decision_tree =  DecisionTreeClassifier(criterion='entropy', min_samples_split=4, random_state=0)\n",
    "decision_tree.fit(X_train, y_train)\n",
    "\n",
    "# predict label\n",
    "prediction = decision_tree.predict(X_test)\n",
    "\n",
    "# compare to actual label\n",
    "accuracy = accuracy_score(y_test, prediction)\n",
    "\n",
    "print(\"Decision Tree Accuracy: \", accuracy) "
   ]
  },
  {
   "cell_type": "markdown",
   "metadata": {},
   "source": [
    "### Random Forest"
   ]
  },
  {
   "cell_type": "code",
   "execution_count": null,
   "metadata": {},
   "outputs": [],
   "source": [
    "from sklearn.ensemble import RandomForestClassifier\n",
    "\n",
    "X_train, X_test, y_train, y_test = train_test_split(X, y, test_size=0.1, random_state=1)\n",
    "\n",
    "random_forest =  RandomForestClassifier(n_estimators = 50, bootstrap = True, random_state=0, criterion='entropy')\n",
    "random_forest.fit(X_train, y_train)\n",
    "\n",
    "prediction = random_forest.predict(X_test)\n",
    "\n",
    "accuracy = accuracy_score(y_test, prediction)\n",
    "\n",
    "print(\"Random Forest Accuracy: \", accuracy) "
   ]
  },
  {
   "cell_type": "markdown",
   "metadata": {},
   "source": [
    "### Ada Boost"
   ]
  },
  {
   "cell_type": "code",
   "execution_count": null,
   "metadata": {},
   "outputs": [],
   "source": [
    "from sklearn.ensemble import AdaBoostClassifier\n",
    "\n",
    "decision_tree = DecisionTreeClassifier()\n",
    "\n",
    "clf = AdaBoostClassifier(n_estimators=100, base_estimator=decision_tree,learning_rate=1)\n",
    "clf.fit(X_train, y_train)\n",
    "\n",
    "prediction = clf.predict(X_test)\n",
    "\n",
    "accuracy = accuracy_score(y_test, prediction)\n",
    "\n",
    "print(\"Ada Boost Accuracy: \", accuracy)"
   ]
  },
  {
   "cell_type": "markdown",
   "metadata": {},
   "source": [
    "### Logistic Regression"
   ]
  },
  {
   "cell_type": "code",
   "execution_count": null,
   "metadata": {},
   "outputs": [],
   "source": [
    "from sklearn.linear_model import LogisticRegression\n",
    "\n",
    "logistic_regression = LogisticRegression()\n",
    "logistic_regression.fit(X_train, y_train)\n",
    "\n",
    "prediction = logistic_regression.predict(X_test)\n",
    "\n",
    "accuracy = accuracy_score(y_test, prediction)\n",
    "\n",
    "print(\"Logistic Regression Accuracy: \", accuracy)"
   ]
  },
  {
   "cell_type": "code",
   "execution_count": null,
   "metadata": {},
   "outputs": [],
   "source": [
    "### Try Cross Validation with Logistic Regression"
   ]
  },
  {
   "cell_type": "code",
   "execution_count": null,
   "metadata": {},
   "outputs": [],
   "source": [
    "from sklearn.model_selection import cross_val_score\n",
    "\n",
    "accuracy_list = cross_val_score(logistic_regression, X, y, cv=10, scoring='accuracy')\n",
    "\n",
    "# accuracy average\n",
    "accuracy_crossValidation = accuracy_list.mean()\n",
    "\n",
    "print(\"Accuracy with cross validation: \", accuracy_crossValidation)"
   ]
  },
  {
   "cell_type": "markdown",
   "metadata": {},
   "source": [
    "### prediction probabilities"
   ]
  },
  {
   "cell_type": "code",
   "execution_count": null,
   "metadata": {},
   "outputs": [],
   "source": [
    "print(\"Prediction Probabilities\")\n",
    "\n",
    "print('\\n')\n",
    "\n",
    "y_predict_proba = logistic_regression.predict_proba(X_test)\n",
    "print(y_predict_proba)"
   ]
  },
  {
   "cell_type": "markdown",
   "metadata": {},
   "source": [
    "### show Confusion Matrix"
   ]
  },
  {
   "cell_type": "code",
   "execution_count": null,
   "metadata": {},
   "outputs": [],
   "source": [
    "from sklearn import metrics\n",
    "\n",
    "print(\"confusion matrix\")\n",
    "\n",
    "print(metrics.classification_report(y_test, prediction))\n",
    "\n",
    "metrics.confusion_matrix(y_test, prediction)"
   ]
  },
  {
   "cell_type": "markdown",
   "metadata": {},
   "source": [
    "### SVM"
   ]
  },
  {
   "cell_type": "code",
   "execution_count": null,
   "metadata": {},
   "outputs": [],
   "source": [
    "from sklearn.svm import SVC\n",
    "from sklearn import svm\n",
    "\n",
    "X_train, X_test, y_train, y_test = train_test_split(X, y, random_state=0)\n",
    "\n",
    "clf = svm.SVC(kernel='linear', C=1).fit(X_train, y_train)\n",
    "\n",
    "accuracy = clf.score(X_test, y_test)\n",
    "\n",
    "print(\"SVM Accuracy: \", accuracy)"
   ]
  },
  {
   "cell_type": "markdown",
   "metadata": {},
   "source": [
    "### K - Nearest Neighbors"
   ]
  },
  {
   "cell_type": "code",
   "execution_count": null,
   "metadata": {},
   "outputs": [],
   "source": [
    "from sklearn.neighbors import KNeighborsClassifier\n",
    "\n",
    "k=50\n",
    "X_train, X_test, y_train, y_test = train_test_split(X, y, test_size = 0.3, random_state=0)\n",
    "\n",
    "knn = KNeighborsClassifier(n_neighbors=k)\n",
    "knn.fit(X_train, y_train)\n",
    "\n",
    "prediction = knn.predict(X_test)\n",
    "\n",
    "accuracy = accuracy_score(y_test, y_predict)\n",
    "\n",
    "print(\"KNN Accuracy: \", accuracy)"
   ]
  },
  {
   "cell_type": "markdown",
   "metadata": {},
   "source": [
    "### Neural Networks"
   ]
  },
  {
   "cell_type": "code",
   "execution_count": null,
   "metadata": {},
   "outputs": [],
   "source": [
    "from sklearn.neural_network import MLPClassifier\n",
    "\n",
    "X_train, X_test, y_train, y_test = train_test_split(X, y,test_size = 0.3, random_state=0)\n",
    "\n",
    "clf = MLPClassifier(solver='lbfgs',hidden_layer_sizes=(8), random_state=0)\n",
    "clf.fit(X_train,y_train)\n",
    "\n",
    "prediction = clf.predict(X_test)\n",
    "\n",
    "accuracy = accuracy_score(y_test, prediction)\n",
    "\n",
    "print(\"Neural Networks Accuracy: \", accuracy)"
   ]
  },
  {
   "cell_type": "markdown",
   "metadata": {},
   "source": [
    "### ANN"
   ]
  },
  {
   "cell_type": "code",
   "execution_count": null,
   "metadata": {},
   "outputs": [],
   "source": [
    "from sklearn.neural_network import MLPClassifier\n",
    "\n",
    "# ANN is an instance of MLPClassifier class\n",
    "ANN = MLPClassifier(hidden_layer_sizes=(80,), activation= 'logistic', solver='adam', alpha=1e-5, \n",
    "                       random_state=1, learning_rate_init = 0.002)\n",
    "\n",
    "\n",
    "ANN.fit(X_train, y_train)\n",
    "\n",
    "prediction = ANN.predict(X_test)\n",
    "\n",
    "accuracy = accuracy_score(y_test, prediction)\n",
    "\n",
    "print(\"ANN Accuracy: \", accuracy)"
   ]
  },
  {
   "cell_type": "markdown",
   "metadata": {
    "collapsed": true
   },
   "source": [
    "### Naive Bayes"
   ]
  },
  {
   "cell_type": "code",
   "execution_count": null,
   "metadata": {},
   "outputs": [],
   "source": [
    "X_train, X_test, y_train, y_test = train_test_split(X, y, test_size=0.06, random_state=1)"
   ]
  },
  {
   "cell_type": "code",
   "execution_count": null,
   "metadata": {},
   "outputs": [],
   "source": [
    "decision_tree =  DecisionTreeClassifier(criterion='entropy')\n",
    "\n",
    "decision_tree.fit(X_train, y_train)\n",
    "prediction = decision_tree.predict(X_test)\n",
    "\n",
    "accuracy = accuracy_score(y_test, prediction)\n",
    "\n",
    "print(\"Decision Tree Accuracy: \", accuracy, \"\\n\") "
   ]
  },
  {
   "cell_type": "code",
   "execution_count": null,
   "metadata": {},
   "outputs": [],
   "source": []
  }
 ],
 "metadata": {
  "kernelspec": {
   "display_name": "Python 3",
   "language": "python",
   "name": "python3"
  }
 },
 "nbformat": 4,
 "nbformat_minor": 2
}
