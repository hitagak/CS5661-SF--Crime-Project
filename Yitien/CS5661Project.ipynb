{
 "cells": [
  {
   "cell_type": "markdown",
   "metadata": {},
   "source": [
    "## <center> San Francisco Crime Classification </center>"
   ]
  },
  {
   "cell_type": "code",
   "execution_count": 17,
   "metadata": {},
   "outputs": [],
   "source": [
    "import numpy as np\n",
    "import pandas as pd\n",
    "\n",
    "import time\n",
    "import datetime\n",
    "\n",
    "import matplotlib.pyplot as plt\n",
    "# for visualization\n",
    "import sklearn\n",
    "\n",
    "from collections import Counter\n",
    "\n",
    "from sklearn.model_selection import train_test_split\n",
    "from sklearn.metrics import accuracy_score"
   ]
  },
  {
   "cell_type": "markdown",
   "metadata": {},
   "source": [
    "### Show Data Frame"
   ]
  },
  {
   "cell_type": "code",
   "execution_count": 18,
   "metadata": {},
   "outputs": [
    {
     "data": {
      "text/html": [
       "<div>\n",
       "<style scoped>\n",
       "    .dataframe tbody tr th:only-of-type {\n",
       "        vertical-align: middle;\n",
       "    }\n",
       "\n",
       "    .dataframe tbody tr th {\n",
       "        vertical-align: top;\n",
       "    }\n",
       "\n",
       "    .dataframe thead th {\n",
       "        text-align: right;\n",
       "    }\n",
       "</style>\n",
       "<table border=\"1\" class=\"dataframe\">\n",
       "  <thead>\n",
       "    <tr style=\"text-align: right;\">\n",
       "      <th></th>\n",
       "      <th>Dates</th>\n",
       "      <th>Descript</th>\n",
       "      <th>DayOfWeek</th>\n",
       "      <th>PdDistrict</th>\n",
       "      <th>Resolution</th>\n",
       "      <th>Address</th>\n",
       "      <th>X</th>\n",
       "      <th>Y</th>\n",
       "      <th>Category</th>\n",
       "    </tr>\n",
       "  </thead>\n",
       "  <tbody>\n",
       "    <tr>\n",
       "      <th>0</th>\n",
       "      <td>10/17/2005 10:00</td>\n",
       "      <td>VEHICLE, RECOVERED, OTHER VEHICLE</td>\n",
       "      <td>Monday</td>\n",
       "      <td>CENTRAL</td>\n",
       "      <td>NONE</td>\n",
       "      <td>LARKIN ST / BEACH ST</td>\n",
       "      <td>-122.422199</td>\n",
       "      <td>37.806435</td>\n",
       "      <td>VEHICLE THEFT</td>\n",
       "    </tr>\n",
       "    <tr>\n",
       "      <th>1</th>\n",
       "      <td>8/6/2012 21:00</td>\n",
       "      <td>GRAND THEFT FROM LOCKED AUTO</td>\n",
       "      <td>Monday</td>\n",
       "      <td>INGLESIDE</td>\n",
       "      <td>NONE</td>\n",
       "      <td>300 Block of FRANCONIA ST</td>\n",
       "      <td>-122.407633</td>\n",
       "      <td>37.744617</td>\n",
       "      <td>LARCENY/THEFT</td>\n",
       "    </tr>\n",
       "    <tr>\n",
       "      <th>2</th>\n",
       "      <td>3/6/2015 18:05</td>\n",
       "      <td>DRIVERS LICENSE, SUSPENDED OR REVOKED</td>\n",
       "      <td>Friday</td>\n",
       "      <td>BAYVIEW</td>\n",
       "      <td>ARREST, BOOKED</td>\n",
       "      <td>REVERE AV / KEITH ST</td>\n",
       "      <td>-122.388295</td>\n",
       "      <td>37.730608</td>\n",
       "      <td>OTHER OFFENSES</td>\n",
       "    </tr>\n",
       "    <tr>\n",
       "      <th>3</th>\n",
       "      <td>7/22/2008 19:32</td>\n",
       "      <td>POSSESSION OF METH-AMPHETAMINE</td>\n",
       "      <td>Tuesday</td>\n",
       "      <td>INGLESIDE</td>\n",
       "      <td>ARREST, BOOKED</td>\n",
       "      <td>100 Block of TINGLEY ST</td>\n",
       "      <td>-122.434391</td>\n",
       "      <td>37.729557</td>\n",
       "      <td>DRUG/NARCOTIC</td>\n",
       "    </tr>\n",
       "    <tr>\n",
       "      <th>4</th>\n",
       "      <td>9/6/2014 5:45</td>\n",
       "      <td>ROBBERY ON THE STREET, STRONGARM</td>\n",
       "      <td>Saturday</td>\n",
       "      <td>CENTRAL</td>\n",
       "      <td>NONE</td>\n",
       "      <td>900 Block of SUTTER ST</td>\n",
       "      <td>-122.416011</td>\n",
       "      <td>37.788227</td>\n",
       "      <td>ROBBERY</td>\n",
       "    </tr>\n",
       "  </tbody>\n",
       "</table>\n",
       "</div>"
      ],
      "text/plain": [
       "              Dates                               Descript DayOfWeek  \\\n",
       "0  10/17/2005 10:00      VEHICLE, RECOVERED, OTHER VEHICLE    Monday   \n",
       "1    8/6/2012 21:00           GRAND THEFT FROM LOCKED AUTO    Monday   \n",
       "2    3/6/2015 18:05  DRIVERS LICENSE, SUSPENDED OR REVOKED    Friday   \n",
       "3   7/22/2008 19:32         POSSESSION OF METH-AMPHETAMINE   Tuesday   \n",
       "4     9/6/2014 5:45       ROBBERY ON THE STREET, STRONGARM  Saturday   \n",
       "\n",
       "  PdDistrict      Resolution                    Address           X  \\\n",
       "0    CENTRAL            NONE       LARKIN ST / BEACH ST -122.422199   \n",
       "1  INGLESIDE            NONE  300 Block of FRANCONIA ST -122.407633   \n",
       "2    BAYVIEW  ARREST, BOOKED       REVERE AV / KEITH ST -122.388295   \n",
       "3  INGLESIDE  ARREST, BOOKED    100 Block of TINGLEY ST -122.434391   \n",
       "4    CENTRAL            NONE     900 Block of SUTTER ST -122.416011   \n",
       "\n",
       "           Y        Category  \n",
       "0  37.806435   VEHICLE THEFT  \n",
       "1  37.744617   LARCENY/THEFT  \n",
       "2  37.730608  OTHER OFFENSES  \n",
       "3  37.729557   DRUG/NARCOTIC  \n",
       "4  37.788227         ROBBERY  "
      ]
     },
     "execution_count": 18,
     "metadata": {},
     "output_type": "execute_result"
    }
   ],
   "source": [
    "# read the dataset and generate dataframe\n",
    "crime_df = pd.read_csv('data_20000.csv')\n",
    "crime_df.head()"
   ]
  },
  {
   "cell_type": "markdown",
   "metadata": {},
   "source": [
    "### Convert Dates into miliseconds"
   ]
  },
  {
   "cell_type": "code",
   "execution_count": null,
   "metadata": {},
   "outputs": [],
   "source": [
    "# convert date to timestamp (milliseconds, divide by a million to get a more readable decimal)\n",
    "crime_df['Dates'] = crime_df['Dates'].apply(lambda x: time.mktime(time.strptime(x, '%m/%d/%Y %H:%M'))/1000000)\n",
    "\n",
    "crime_df.head()\n"
   ]
  },
  {
   "cell_type": "markdown",
   "metadata": {},
   "source": [
    "### Show Label"
   ]
  },
  {
   "cell_type": "code",
   "execution_count": 4,
   "metadata": {},
   "outputs": [
    {
     "name": "stdout",
     "output_type": "stream",
     "text": [
      "0                 VEHICLE THEFT\n",
      "1                 LARCENY/THEFT\n",
      "2                OTHER OFFENSES\n",
      "3                 DRUG/NARCOTIC\n",
      "4                       ROBBERY\n",
      "5                OTHER OFFENSES\n",
      "6                 LARCENY/THEFT\n",
      "7                SUSPICIOUS OCC\n",
      "8                OTHER OFFENSES\n",
      "9                  NON-CRIMINAL\n",
      "10       FORGERY/COUNTERFEITING\n",
      "11                DRUG/NARCOTIC\n",
      "12                      ROBBERY\n",
      "13                LARCENY/THEFT\n",
      "14                LARCENY/THEFT\n",
      "15                      ASSAULT\n",
      "16                  WEAPON LAWS\n",
      "17                DRUG/NARCOTIC\n",
      "18               OTHER OFFENSES\n",
      "19                      ASSAULT\n",
      "20               OTHER OFFENSES\n",
      "21       FORGERY/COUNTERFEITING\n",
      "22                      ASSAULT\n",
      "23                LARCENY/THEFT\n",
      "24                VEHICLE THEFT\n",
      "25                     WARRANTS\n",
      "26                     WARRANTS\n",
      "27                VEHICLE THEFT\n",
      "28                LARCENY/THEFT\n",
      "29                LARCENY/THEFT\n",
      "                  ...          \n",
      "19970                   ASSAULT\n",
      "19971              NON-CRIMINAL\n",
      "19972                 VANDALISM\n",
      "19973            MISSING PERSON\n",
      "19974            SUSPICIOUS OCC\n",
      "19975             VEHICLE THEFT\n",
      "19976                     FRAUD\n",
      "19977            SUSPICIOUS OCC\n",
      "19978            OTHER OFFENSES\n",
      "19979             LARCENY/THEFT\n",
      "19980             LARCENY/THEFT\n",
      "19981            OTHER OFFENSES\n",
      "19982             VEHICLE THEFT\n",
      "19983        DISORDERLY CONDUCT\n",
      "19984             LARCENY/THEFT\n",
      "19985             LARCENY/THEFT\n",
      "19986                   ASSAULT\n",
      "19987                   ASSAULT\n",
      "19988             LARCENY/THEFT\n",
      "19989                   ASSAULT\n",
      "19990            OTHER OFFENSES\n",
      "19991                KIDNAPPING\n",
      "19992                   ASSAULT\n",
      "19993                 VANDALISM\n",
      "19994            SUSPICIOUS OCC\n",
      "19995            OTHER OFFENSES\n",
      "19996                   ASSAULT\n",
      "19997                   ROBBERY\n",
      "19998               DRUNKENNESS\n",
      "19999            OTHER OFFENSES\n",
      "Name: Category, Length: 20000, dtype: object\n",
      "(20000,)\n"
     ]
    }
   ],
   "source": [
    "y = crime_df['Category'] \n",
    "\n",
    "print(y)\n",
    "print(y.shape)"
   ]
  },
  {
   "cell_type": "markdown",
   "metadata": {},
   "source": [
    "# Visualization Plotting"
   ]
  },
  {
   "cell_type": "code",
   "execution_count": 20,
   "metadata": {},
   "outputs": [
    {
     "data": {
      "text/plain": [
       "<matplotlib.axes._subplots.AxesSubplot at 0x1c852131358>"
      ]
     },
     "execution_count": 20,
     "metadata": {},
     "output_type": "execute_result"
    },
    {
     "data": {
      "image/png": "[encoded data removed]",
      "text/plain": [
       "<matplotlib.figure.Figure at 0x1c84f68a438>"
      ]
     },
     "metadata": {},
     "output_type": "display_data"
    }
   ],
   "source": [
    "crime_df.category.value_counts().plot(kind='barh', figsize=(10,8))"
   ]
  },
  {
   "cell_type": "markdown",
   "metadata": {},
   "source": [
    "### Convert columns which is non-numeric data type to series of words. Each words will be a new column"
   ]
  },
  {
   "cell_type": "code",
   "execution_count": 5,
   "metadata": {},
   "outputs": [],
   "source": [
    "my_list = ['Dates','Descript','DayOfWeek','PdDistrict','Resolution','Address','X','Y','Category']\n",
    "\n",
    "def string_to_series_of_words(x):    \n",
    "    return pd.Series(x.split(\" \"))\n",
    "\n",
    "\n",
    "for f in my_list[1:6]:\n",
    "    crime_df[f] = crime_df[f].apply(string_to_series_of_words)\n"
   ]
  },
  {
   "cell_type": "markdown",
   "metadata": {},
   "source": [
    "### use get_dummies to put dummy variables"
   ]
  },
  {
   "cell_type": "code",
   "execution_count": 6,
   "metadata": {},
   "outputs": [
    {
     "name": "stdout",
     "output_type": "stream",
     "text": [
      "            Dates           X          Y  Descript_ABANDONMENT  \\\n",
      "0      1129.56840 -122.422199  37.806435                     0   \n",
      "1      1344.31200 -122.407633  37.744617                     0   \n",
      "2      1425.69390 -122.388295  37.730608                     0   \n",
      "3      1216.78032 -122.434391  37.729557                     0   \n",
      "4      1410.00750 -122.416011  37.788227                     0   \n",
      "5      1145.42706 -122.464175  37.763179                     0   \n",
      "6      1397.88360 -122.403405  37.775421                     0   \n",
      "7      1188.87000 -122.436247  37.761477                     0   \n",
      "8      1082.26980 -122.492068  37.714362                     0   \n",
      "9      1397.86200 -122.497242  37.751396                     0   \n",
      "10     1153.84680 -122.429138  37.725135                     0   \n",
      "11     1299.94224 -122.389421  37.729354                     0   \n",
      "12     1291.46592 -122.505923  37.761340                     0   \n",
      "13     1202.50080 -122.396556  37.794117                     0   \n",
      "14     1297.30320 -122.390859  37.779096                     0   \n",
      "15     1253.20290 -122.404278  37.787919                     0   \n",
      "16     1157.85498 -122.414312  37.779834                     0   \n",
      "17     1384.48440 -122.410078  37.772526                     0   \n",
      "18     1085.52852 -122.386421  37.729545                     0   \n",
      "19     1378.30110 -122.408409  37.711525                     0   \n",
      "20     1299.80202 -122.414081  37.783277                     0   \n",
      "21     1150.40700 -122.419457  37.776862                     0   \n",
      "22     1417.06200 -122.414867  37.750026                     0   \n",
      "23     1372.63140 -122.417449  37.778644                     0   \n",
      "24     1163.54238 -122.400560  37.735406                     0   \n",
      "25     1297.32252 -122.420074  37.791652                     0   \n",
      "26     1319.05524 -122.380348  37.728828                     0   \n",
      "27     1367.53560 -122.423488  37.758365                     0   \n",
      "28     1332.45540 -122.428687  37.800897                     0   \n",
      "29     1407.72780 -122.438709  37.780150                     0   \n",
      "...           ...         ...        ...                   ...   \n",
      "19970  1219.08930 -122.413259  37.782951                     0   \n",
      "19971  1334.90526 -122.440591  37.780373                     0   \n",
      "19972  1202.71230 -122.375989  37.730158                     0   \n",
      "19973  1346.72310 -122.492903  37.774963                     0   \n",
      "19974  1370.07990 -122.400153  37.794135                     0   \n",
      "19975  1107.84060 -122.435003  37.760888                     0   \n",
      "19976  1202.27328 -122.421971  37.742375                     0   \n",
      "19977  1250.91000 -122.441581  37.726759                     0   \n",
      "19978  1069.78500 -122.426000  37.748508                     0   \n",
      "19979  1250.88840 -122.442796  37.782883                     0   \n",
      "19980  1086.79920 -122.413179  37.807639                     0   \n",
      "19981  1291.14000 -122.419877  37.769580                     0   \n",
      "19982  1326.58560 -122.440384  37.771322                     0   \n",
      "19983  1294.02000 -122.462698  37.716996                     0   \n",
      "19984  1311.62040 -122.407258  37.769770                     0   \n",
      "19985  1391.82480 -122.406482  37.782732                     0   \n",
      "19986  1334.72820 -122.411778  37.783981                     0   \n",
      "19987  1213.23060 -122.414458  37.776508                     0   \n",
      "19988  1214.61840 -122.402329  37.767347                     0   \n",
      "19989  1188.00498 -122.403405  37.775421                     0   \n",
      "19990  1249.58724 -122.387413  37.730040                     0   \n",
      "19991  1168.82304 -122.400835  37.782358                     0   \n",
      "19992  1340.62650 -122.414056  37.782793                     0   \n",
      "19993  1307.08080 -122.491824  37.773140                     0   \n",
      "19994  1095.43680 -122.502807  37.776382                     0   \n",
      "19995  1296.33780 -122.411069  37.788856                     0   \n",
      "19996  1143.34020 -122.426000  37.748508                     0   \n",
      "19997  1407.30660 -122.414744  37.778719                     0   \n",
      "19998  1079.86098 -122.396845  37.782118                     0   \n",
      "19999  1178.21700 -122.418904  37.757036                     0   \n",
      "\n",
      "       Descript_ACCESS  Descript_ACTS  Descript_AGGRAVATED  \\\n",
      "0                    0              0                    0   \n",
      "1                    0              0                    0   \n",
      "2                    0              0                    0   \n",
      "3                    0              0                    0   \n",
      "4                    0              0                    0   \n",
      "5                    0              0                    0   \n",
      "6                    0              0                    0   \n",
      "7                    0              0                    0   \n",
      "8                    0              0                    0   \n",
      "9                    0              0                    0   \n",
      "10                   0              0                    0   \n",
      "11                   0              0                    0   \n",
      "12                   0              0                    0   \n",
      "13                   0              0                    0   \n",
      "14                   0              0                    0   \n",
      "15                   0              0                    0   \n",
      "16                   0              0                    0   \n",
      "17                   0              0                    0   \n",
      "18                   0              0                    0   \n",
      "19                   0              0                    0   \n",
      "20                   0              0                    0   \n",
      "21                   0              0                    0   \n",
      "22                   0              0                    0   \n",
      "23                   0              0                    0   \n",
      "24                   0              0                    0   \n",
      "25                   0              0                    0   \n",
      "26                   0              0                    0   \n",
      "27                   0              0                    0   \n",
      "28                   0              0                    0   \n",
      "29                   0              0                    0   \n",
      "...                ...            ...                  ...   \n",
      "19970                0              0                    0   \n",
      "19971                0              0                    0   \n",
      "19972                0              0                    0   \n",
      "19973                0              0                    0   \n",
      "19974                0              0                    0   \n",
      "19975                0              0                    0   \n",
      "19976                0              0                    0   \n",
      "19977                0              0                    0   \n",
      "19978                0              0                    0   \n",
      "19979                0              0                    0   \n",
      "19980                0              0                    0   \n",
      "19981                0              0                    0   \n",
      "19982                0              0                    0   \n",
      "19983                0              0                    0   \n",
      "19984                0              0                    0   \n",
      "19985                0              0                    0   \n",
      "19986                0              0                    1   \n",
      "19987                0              0                    0   \n",
      "19988                0              0                    0   \n",
      "19989                0              0                    0   \n",
      "19990                0              0                    0   \n",
      "19991                0              0                    0   \n",
      "19992                0              0                    1   \n",
      "19993                0              0                    0   \n",
      "19994                0              0                    0   \n",
      "19995                0              0                    0   \n",
      "19996                0              0                    0   \n",
      "19997                0              0                    0   \n",
      "19998                0              0                    0   \n",
      "19999                0              0                    0   \n",
      "\n",
      "       Descript_AGGRESSIVE  Descript_AID  Descript_AIDED        ...         \\\n",
      "0                        0             0               0        ...          \n",
      "1                        0             0               0        ...          \n",
      "2                        0             0               0        ...          \n",
      "3                        0             0               0        ...          \n",
      "4                        0             0               0        ...          \n",
      "5                        0             0               0        ...          \n",
      "6                        0             0               0        ...          \n",
      "7                        0             0               0        ...          \n",
      "8                        0             0               0        ...          \n",
      "9                        0             0               0        ...          \n",
      "10                       0             0               0        ...          \n",
      "11                       0             0               0        ...          \n",
      "12                       0             0               0        ...          \n",
      "13                       0             0               0        ...          \n",
      "14                       0             0               0        ...          \n",
      "15                       0             0               0        ...          \n",
      "16                       0             0               0        ...          \n",
      "17                       0             0               0        ...          \n",
      "18                       0             0               0        ...          \n",
      "19                       0             0               0        ...          \n",
      "20                       0             0               0        ...          \n",
      "21                       0             0               0        ...          \n",
      "22                       0             0               0        ...          \n",
      "23                       0             0               0        ...          \n",
      "24                       0             0               0        ...          \n",
      "25                       0             0               0        ...          \n",
      "26                       0             0               0        ...          \n",
      "27                       0             0               0        ...          \n",
      "28                       0             0               0        ...          \n",
      "29                       0             0               0        ...          \n",
      "...                    ...           ...             ...        ...          \n",
      "19970                    0             0               0        ...          \n",
      "19971                    0             0               0        ...          \n",
      "19972                    0             0               0        ...          \n",
      "19973                    0             0               0        ...          \n",
      "19974                    0             0               0        ...          \n",
      "19975                    0             0               0        ...          \n",
      "19976                    0             0               0        ...          \n",
      "19977                    0             0               0        ...          \n",
      "19978                    0             0               0        ...          \n",
      "19979                    0             0               0        ...          \n",
      "19980                    0             0               0        ...          \n",
      "19981                    0             0               0        ...          \n",
      "19982                    0             0               0        ...          \n",
      "19983                    0             0               0        ...          \n",
      "19984                    0             0               0        ...          \n",
      "19985                    0             0               0        ...          \n",
      "19986                    0             0               0        ...          \n",
      "19987                    0             0               0        ...          \n",
      "19988                    0             0               0        ...          \n",
      "19989                    0             0               0        ...          \n",
      "19990                    0             0               0        ...          \n",
      "19991                    0             0               0        ...          \n",
      "19992                    0             0               0        ...          \n",
      "19993                    0             0               0        ...          \n",
      "19994                    0             0               0        ...          \n",
      "19995                    0             0               0        ...          \n",
      "19996                    0             0               0        ...          \n",
      "19997                    0             0               0        ...          \n",
      "19998                    0             0               0        ...          \n",
      "19999                    0             0               0        ...          \n",
      "\n",
      "       Address_WILLARD  Address_WILLIAMS  Address_WILLOW  Address_WINSTON  \\\n",
      "0                    0                 0               0                0   \n",
      "1                    0                 0               0                0   \n",
      "2                    0                 0               0                0   \n",
      "3                    0                 0               0                0   \n",
      "4                    0                 0               0                0   \n",
      "5                    0                 0               0                0   \n",
      "6                    0                 0               0                0   \n",
      "7                    0                 0               0                0   \n",
      "8                    0                 0               0                0   \n",
      "9                    0                 0               0                0   \n",
      "10                   0                 0               0                0   \n",
      "11                   0                 0               0                0   \n",
      "12                   0                 0               0                0   \n",
      "13                   0                 0               0                0   \n",
      "14                   0                 0               0                0   \n",
      "15                   0                 0               0                0   \n",
      "16                   0                 0               0                0   \n",
      "17                   0                 0               0                0   \n",
      "18                   0                 0               0                0   \n",
      "19                   0                 0               0                0   \n",
      "20                   0                 0               0                0   \n",
      "21                   0                 0               0                0   \n",
      "22                   0                 0               0                0   \n",
      "23                   0                 0               0                0   \n",
      "24                   0                 0               0                0   \n",
      "25                   0                 0               0                0   \n",
      "26                   0                 0               0                0   \n",
      "27                   0                 0               0                0   \n",
      "28                   0                 0               0                0   \n",
      "29                   0                 0               0                0   \n",
      "...                ...               ...             ...              ...   \n",
      "19970                0                 0               0                0   \n",
      "19971                0                 0               0                0   \n",
      "19972                0                 0               0                0   \n",
      "19973                0                 0               0                0   \n",
      "19974                0                 0               0                0   \n",
      "19975                0                 0               0                0   \n",
      "19976                0                 0               0                0   \n",
      "19977                0                 0               0                0   \n",
      "19978                0                 0               0                0   \n",
      "19979                0                 0               0                0   \n",
      "19980                0                 0               0                0   \n",
      "19981                0                 0               0                0   \n",
      "19982                0                 0               0                0   \n",
      "19983                0                 0               0                0   \n",
      "19984                0                 0               0                0   \n",
      "19985                0                 0               0                0   \n",
      "19986                0                 0               0                0   \n",
      "19987                0                 0               0                0   \n",
      "19988                0                 0               0                0   \n",
      "19989                0                 0               0                0   \n",
      "19990                0                 0               0                0   \n",
      "19991                0                 0               0                0   \n",
      "19992                0                 0               0                0   \n",
      "19993                0                 0               0                0   \n",
      "19994                0                 0               0                0   \n",
      "19995                0                 0               0                0   \n",
      "19996                0                 0               0                0   \n",
      "19997                0                 0               0                0   \n",
      "19998                0                 0               0                0   \n",
      "19999                0                 0               0                0   \n",
      "\n",
      "       Address_WISCONSIN  Address_WOODSIDE  Address_WOOLSEY  Address_WORTH  \\\n",
      "0                      0                 0                0              0   \n",
      "1                      0                 0                0              0   \n",
      "2                      0                 0                0              0   \n",
      "3                      0                 0                0              0   \n",
      "4                      0                 0                0              0   \n",
      "5                      0                 0                0              0   \n",
      "6                      0                 0                0              0   \n",
      "7                      0                 0                0              0   \n",
      "8                      0                 0                0              0   \n",
      "9                      0                 0                0              0   \n",
      "10                     0                 0                0              0   \n",
      "11                     0                 0                0              0   \n",
      "12                     0                 0                0              0   \n",
      "13                     0                 0                0              0   \n",
      "14                     0                 0                0              0   \n",
      "15                     0                 0                0              0   \n",
      "16                     0                 0                0              0   \n",
      "17                     0                 0                0              0   \n",
      "18                     0                 0                0              0   \n",
      "19                     0                 0                0              0   \n",
      "20                     0                 0                0              0   \n",
      "21                     0                 0                0              0   \n",
      "22                     0                 0                0              0   \n",
      "23                     0                 0                0              0   \n",
      "24                     0                 0                0              0   \n",
      "25                     0                 0                0              0   \n",
      "26                     0                 0                0              0   \n",
      "27                     0                 0                0              0   \n",
      "28                     0                 0                0              0   \n",
      "29                     0                 0                0              0   \n",
      "...                  ...               ...              ...            ...   \n",
      "19970                  0                 0                0              0   \n",
      "19971                  0                 0                0              0   \n",
      "19972                  0                 0                0              0   \n",
      "19973                  0                 0                0              0   \n",
      "19974                  0                 0                0              0   \n",
      "19975                  0                 0                0              0   \n",
      "19976                  0                 0                0              0   \n",
      "19977                  0                 0                0              0   \n",
      "19978                  0                 0                0              0   \n",
      "19979                  0                 0                0              0   \n",
      "19980                  0                 0                0              0   \n",
      "19981                  0                 0                0              0   \n",
      "19982                  0                 0                0              0   \n",
      "19983                  0                 0                0              0   \n",
      "19984                  0                 0                0              0   \n",
      "19985                  0                 0                0              0   \n",
      "19986                  0                 0                0              0   \n",
      "19987                  0                 0                0              0   \n",
      "19988                  0                 0                0              0   \n",
      "19989                  0                 0                0              0   \n",
      "19990                  0                 0                0              0   \n",
      "19991                  0                 0                0              0   \n",
      "19992                  0                 0                0              0   \n",
      "19993                  0                 0                0              0   \n",
      "19994                  0                 0                0              0   \n",
      "19995                  0                 0                0              0   \n",
      "19996                  0                 0                0              0   \n",
      "19997                  0                 0                0              0   \n",
      "19998                  0                 0                0              0   \n",
      "19999                  0                 0                0              0   \n",
      "\n",
      "       Address_YORK  Address_YOSEMITE  \n",
      "0                 0                 0  \n",
      "1                 0                 0  \n",
      "2                 0                 0  \n",
      "3                 0                 0  \n",
      "4                 0                 0  \n",
      "5                 0                 0  \n",
      "6                 0                 0  \n",
      "7                 0                 0  \n",
      "8                 0                 0  \n",
      "9                 0                 0  \n",
      "10                0                 0  \n",
      "11                0                 0  \n",
      "12                0                 0  \n",
      "13                0                 0  \n",
      "14                0                 0  \n",
      "15                0                 0  \n",
      "16                0                 0  \n",
      "17                0                 0  \n",
      "18                0                 0  \n",
      "19                0                 0  \n",
      "20                0                 0  \n",
      "21                0                 0  \n",
      "22                0                 0  \n",
      "23                0                 0  \n",
      "24                0                 0  \n",
      "25                0                 0  \n",
      "26                0                 0  \n",
      "27                0                 0  \n",
      "28                0                 0  \n",
      "29                0                 0  \n",
      "...             ...               ...  \n",
      "19970             0                 0  \n",
      "19971             0                 0  \n",
      "19972             0                 0  \n",
      "19973             0                 0  \n",
      "19974             0                 0  \n",
      "19975             0                 0  \n",
      "19976             0                 0  \n",
      "19977             0                 0  \n",
      "19978             0                 0  \n",
      "19979             0                 0  \n",
      "19980             0                 0  \n",
      "19981             0                 0  \n",
      "19982             0                 0  \n",
      "19983             0                 0  \n",
      "19984             0                 0  \n",
      "19985             0                 0  \n",
      "19986             0                 0  \n",
      "19987             0                 0  \n",
      "19988             0                 0  \n",
      "19989             0                 0  \n",
      "19990             0                 0  \n",
      "19991             0                 0  \n",
      "19992             0                 0  \n",
      "19993             0                 0  \n",
      "19994             0                 0  \n",
      "19995             0                 0  \n",
      "19996             0                 0  \n",
      "19997             0                 0  \n",
      "19998             0                 0  \n",
      "19999             0                 0  \n",
      "\n",
      "[20000 rows x 900 columns]\n",
      "['Dates', 'X', 'Y', 'Descript_ABANDONMENT', 'Descript_ACCESS', 'Descript_ACTS', 'Descript_AGGRAVATED', 'Descript_AGGRESSIVE', 'Descript_AID', 'Descript_AIDED', 'Descript_AMMUNITION,', 'Descript_ANNOY', 'Descript_ARSON', 'Descript_ASSAULT', 'Descript_ASSAULT,', 'Descript_ATM', 'Descript_ATTEMPTED', 'Descript_AUTO,', 'Descript_BALLOONS,', 'Descript_BATHROOM', 'Descript_BATTERY', 'Descript_BATTERY,', 'Descript_BEGGING', 'Descript_BEYOND', 'Descript_BRIBERY', 'Descript_BURGLARY', 'Descript_BURGLARY,', 'Descript_BURGLARY,APT', 'Descript_BURGLARY,BLDG.', 'Descript_BURGLARY,FLAT', 'Descript_BURGLARY,RESIDENCE', 'Descript_BURGLARY,STORE', 'Descript_CARJACKING', 'Descript_CARRYING', 'Descript_CASE', 'Descript_CASH', 'Descript_CHECKS', 'Descript_CHECKS,', 'Descript_CHILD', 'Descript_CHILD,', 'Descript_CHILDREN,', 'Descript_CIVIL', 'Descript_COMMITTING', 'Descript_CONCEALMENT/REMOVAL', 'Descript_CONSPIRACY', 'Descript_CONSUMING', 'Descript_CONTRIBUTING', 'Descript_CONTROLLED', 'Descript_COUNTERFEITING,', 'Descript_COURTESY', 'Descript_CREDIT', 'Descript_CRUELTY', 'Descript_DAMAGE', 'Descript_DAMAGE/DESTRUCTION', 'Descript_DANGER', 'Descript_DEATH', 'Descript_DEATH,', 'Descript_DEFRAUDING', 'Descript_DESERTION', 'Descript_DISCHARGE', 'Descript_DISCHARGING', 'Descript_DISRUPTS', 'Descript_DISSUADING', 'Descript_DISTURBING', 'Descript_DOG,', 'Descript_DOMESTIC', 'Descript_DRIVERS', 'Descript_DRIVING', 'Descript_DUMPING', 'Descript_ELDER', 'Descript_EMBEZZLED', 'Descript_EMBEZZLEMENT', 'Descript_EMBEZZLEMENT,', 'Descript_ENCOURAGING', 'Descript_ENGAGING', 'Descript_ENROUTE', 'Descript_ESCAPE', 'Descript_EVADING', 'Descript_EXHIBITING', 'Descript_EXTORTION', 'Descript_FAILURE', 'Descript_FALSE', 'Descript_FALSIFYING', 'Descript_FIRE', 'Descript_FIRE,', 'Descript_FIREARM,', 'Descript_FOOD', 'Descript_FORCIBLE', 'Descript_FORGE', 'Descript_FORGERY', 'Descript_FORGERY,', 'Descript_FOUND', 'Descript_FRAUDULENT', 'Descript_FURNISHING', 'Descript_GAMBLING', 'Descript_GANG', 'Descript_GRAFFITI', 'Descript_GRAND', 'Descript_HABITUAL', 'Descript_HARASSING', 'Descript_HAZARDOUS', 'Descript_HUMAN', 'Descript_IDENTIFICATION,', 'Descript_IMPERSONATING', 'Descript_IMPOUNDED', 'Descript_INDECENT', 'Descript_INFLICT', 'Descript_INJURY', 'Descript_INMATE/KEEPER', 'Descript_INTERFERRING', 'Descript_INVESTIGATIVE', 'Descript_JUVENILE', 'Descript_KIDNAPPING,', 'Descript_LICENSE', 'Descript_LOCATED', 'Descript_LODGING', 'Descript_LOITERING', 'Descript_LOITERS', 'Descript_LOST', 'Descript_LOST/STOLEN', 'Descript_MAINTAINING', 'Descript_MALICIOUS', 'Descript_MANUFACTURE', 'Descript_MINOR', 'Descript_MISCELLANEOUS', 'Descript_MISPLACED', 'Descript_MISSING', 'Descript_MONEY,', 'Descript_OBSCENE', 'Descript_OBSTRUCTING', 'Descript_OBSTRUCTIONS', 'Descript_OPERATING', 'Descript_ORAL', 'Descript_PANDERING', 'Descript_PAROLE', 'Descript_PEDDLING', 'Descript_PENETRATION,', 'Descript_PERMIT', 'Descript_PETTY', 'Descript_PHONE', 'Descript_PIMPING', 'Descript_POSS', 'Descript_POSSESSION', 'Descript_POST', 'Descript_PREJUDICE-BASED', 'Descript_PROBATION', 'Descript_PROPERTY', 'Descript_PUBLIC', 'Descript_RAPE,', 'Descript_RECEIVING', 'Descript_RECKLESS', 'Descript_RECOVERED', 'Descript_RESISTING', 'Descript_RESTRAINING', 'Descript_ROBBERY', 'Descript_ROBBERY,', 'Descript_RUNAWAY', 'Descript_SAFE', 'Descript_SALE', 'Descript_SALES', 'Descript_SCHOOL', 'Descript_SEARCH', 'Descript_SELLING/DISCHARGING', 'Descript_SEXUAL', 'Descript_SHELTER', 'Descript_SHOOTING', 'Descript_SHOPLIFTING,', 'Descript_SHORT', 'Descript_SODOMY', 'Descript_SOLICITS', 'Descript_SPEEDING', 'Descript_SPITTING', 'Descript_STALKING', 'Descript_STAY', 'Descript_STOLEN', 'Descript_SUICIDE', 'Descript_SUSPICIOUS', 'Descript_SWITCHBLADE', 'Descript_TAMPERING', 'Descript_TARASOFF', 'Descript_TELEPHONE', 'Descript_THEFT', 'Descript_THEFT,', 'Descript_THREAT', 'Descript_THREATENING', 'Descript_THREATS', 'Descript_THROWING', 'Descript_TOBACCO', 'Descript_TRAFFIC', 'Descript_TRANSPORTAION', 'Descript_TRANSPORTATION', 'Descript_TRESPASSING', 'Descript_TRICK', 'Descript_TRUANT,', 'Descript_TURNED', 'Descript_UNDER', 'Descript_UNKNOWN', 'Descript_UNLAWFUL', 'Descript_UNUSUAL', 'Descript_VANDALISM', 'Descript_VEHICLE,', 'Descript_VIN,', 'Descript_VIOLATION', 'Descript_VISITING', 'Descript_WARRANT', 'Descript_WEAPON,', 'Descript_WILLFUL', 'DayOfWeek_Friday', 'DayOfWeek_Monday', 'DayOfWeek_Saturday', 'DayOfWeek_Sunday', 'DayOfWeek_Thursday', 'DayOfWeek_Tuesday', 'DayOfWeek_Wednesday', 'PdDistrict_BAYVIEW', 'PdDistrict_CENTRAL', 'PdDistrict_INGLESIDE', 'PdDistrict_MISSION', 'PdDistrict_NORTHERN', 'PdDistrict_PARK', 'PdDistrict_RICHMOND', 'PdDistrict_SOUTHERN', 'PdDistrict_TARAVAL', 'PdDistrict_TENDERLOIN', 'Resolution_ARREST,', 'Resolution_CLEARED-CONTACT', 'Resolution_COMPLAINANT', 'Resolution_DISTRICT', 'Resolution_EXCEPTIONAL', 'Resolution_JUVENILE', 'Resolution_LOCATED', 'Resolution_NONE', 'Resolution_NOT', 'Resolution_PROSECUTED', 'Resolution_PSYCHOPATHIC', 'Resolution_UNFOUNDED', 'Address_0', 'Address_100', 'Address_1000', 'Address_10TH', 'Address_1100', 'Address_11TH', 'Address_1200', 'Address_12TH', 'Address_1300', 'Address_13TH', 'Address_1400', 'Address_14TH', 'Address_1500', 'Address_15TH', 'Address_1600', 'Address_16TH', 'Address_1700', 'Address_17TH', 'Address_1800', 'Address_18TH', 'Address_1900', 'Address_19TH', 'Address_1ST', 'Address_200', 'Address_2000', 'Address_20TH', 'Address_2100', 'Address_21ST', 'Address_2200', 'Address_22ND', 'Address_2300', 'Address_23RD', 'Address_2400', 'Address_24TH', 'Address_2500', 'Address_25TH', 'Address_2600', 'Address_26TH', 'Address_2700', 'Address_27TH', 'Address_2800', 'Address_28TH', 'Address_2900', 'Address_29TH', 'Address_2ND', 'Address_300', 'Address_3000', 'Address_30TH', 'Address_3100', 'Address_31ST', 'Address_3200', 'Address_32ND', 'Address_3300', 'Address_33RD', 'Address_3400', 'Address_34TH', 'Address_3500', 'Address_35TH', 'Address_3600', 'Address_36TH', 'Address_3700', 'Address_37TH', 'Address_3800', 'Address_3900', 'Address_39TH', 'Address_3RD', 'Address_400', 'Address_4000', 'Address_40TH', 'Address_4100', 'Address_4200', 'Address_42ND', 'Address_4300', 'Address_43RD', 'Address_4400', 'Address_44TH', 'Address_4500', 'Address_45TH', 'Address_4600', 'Address_46TH', 'Address_4700', 'Address_47TH', 'Address_4800', 'Address_48TH', 'Address_4900', 'Address_4TH', 'Address_500', 'Address_5000', 'Address_5100', 'Address_5200', 'Address_5300', 'Address_5400', 'Address_5500', 'Address_5600', 'Address_5700', 'Address_5800', 'Address_5900', 'Address_5TH', 'Address_5THSTNORTH', 'Address_600', 'Address_6000', 'Address_6100', 'Address_6200', 'Address_6300', 'Address_6400', 'Address_6500', 'Address_6600', 'Address_6700', 'Address_6800', 'Address_6900', 'Address_6TH', 'Address_700', 'Address_7000', 'Address_7100', 'Address_7500', 'Address_7600', 'Address_7TH', 'Address_800', 'Address_8100', 'Address_8TH', 'Address_900', 'Address_9TH', 'Address_ADA', 'Address_ADAIR', 'Address_ADDISON', 'Address_ALABAMA', 'Address_ALAMEDA', 'Address_ALBION', 'Address_ALEMANY', 'Address_ALVARADO', 'Address_AMAZON', 'Address_ANDERSON', 'Address_ANNIE', 'Address_ANTONIO', 'Address_ANZA', 'Address_APPLETON', 'Address_ARCH', 'Address_ARGUELLO', 'Address_ARKANSAS', 'Address_ARLETA', 'Address_ARMSTRONG', 'Address_ASHBURY', 'Address_ASHTON', 'Address_ATHENS', 'Address_AUSTIN', 'Address_AVALON', 'Address_AVERY', 'Address_AVILA', 'Address_BACON', 'Address_BADEN', 'Address_BAKER', 'Address_BALBOA', 'Address_BARNEVELD', 'Address_BARTLETT', 'Address_BATTERY', 'Address_BAY', 'Address_BAYVIEW', 'Address_BEACH', 'Address_BEALE', 'Address_BEAUMONT', 'Address_BELCHER', 'Address_BELMONT', 'Address_BELVEDERE', 'Address_BEMIS', 'Address_BENTON', 'Address_BERNICE', 'Address_BERRY', 'Address_BERTHA', 'Address_BLUXOME', 'Address_BLYTHDALE', 'Address_BONIFACIO', 'Address_BOSWORTH', 'Address_BOWLINGGREEN', 'Address_BRADY', 'Address_BRANNAN', 'Address_BRAZIL', 'Address_BRIGHTON', 'Address_BROAD', 'Address_BROADWAY', 'Address_BRODERICK', 'Address_BROMPTON', 'Address_BROTHERHOOD', 'Address_BRUSSELS', 'Address_BRYANT', 'Address_BUCHANAN', 'Address_BUENA', 'Address_BUENAVISTAEAST', 'Address_BUENAVISTAWEST', 'Address_BUSH', 'Address_CABRILLO', 'Address_CALEDONIA', 'Address_CALIFORNIA', 'Address_CAMBRIDGE', 'Address_CAMPBELL', 'Address_CAPISTRANO', 'Address_CAPITOL', 'Address_CAPP', 'Address_CARL', 'Address_CAROLINA', 'Address_CARRIZAL', 'Address_CARROLL', 'Address_CASHMERE', 'Address_CASTRO', 'Address_CAYUGA', 'Address_CEDAR', 'Address_CENTRAL', 'Address_CERES', 'Address_CERVANTES', 'Address_CESAR', 'Address_CHANNEL', 'Address_CHENERY', 'Address_CHESTNUT', 'Address_CHURCH', 'Address_CIRCULAR', 'Address_CLARA', 'Address_CLARENDON', 'Address_CLAY', 'Address_CLAYTON', 'Address_CLEARY', 'Address_CLEMENT', 'Address_CLEMENTINA', 'Address_CLEVELAND', 'Address_COLE', 'Address_COLERIDGE', 'Address_COLINPKELLYJR', 'Address_COLLEGE', 'Address_COLLINGWOOD', 'Address_COLUMBIASQUARE', 'Address_COLUMBUS', 'Address_CONNECTICUT', 'Address_CORTLAND', 'Address_COSMO', 'Address_COSO', 'Address_CRESCENT', 'Address_CRESPI', 'Address_CRESTMONT', 'Address_CROSSOVER', 'Address_CUMBERLAND', 'Address_CYPRESS', 'Address_DAKOTA', 'Address_DAVIDSON', 'Address_DAVIS', 'Address_DAWNVIEW', 'Address_DAY', 'Address_DEHARO', 'Address_DELANCEY', 'Address_DELANO', 'Address_DELTA', 'Address_DETROIT', 'Address_DIAMOND', 'Address_DIAMONDHEIGHTS', 'Address_DIVISADERO', 'Address_DIVISION', 'Address_DODGE', 'Address_DOLORES', 'Address_DORE', 'Address_DOUGLASS', 'Address_DRUMM', 'Address_DUBOCE', 'Address_DWIGHT', 'Address_EDDY', 'Address_EDINBURGH', 'Address_EGBERT', 'Address_ELIZABETH', 'Address_ELLIOT', 'Address_ELLIS', 'Address_ELM', 'Address_ELWOOD', 'Address_ERIE', 'Address_EUCALYPTUS', 'Address_EUCLID', 'Address_EUREKA', 'Address_EVANS', 'Address_EVELYN', 'Address_EXCELSIOR', 'Address_FALMOUTH', 'Address_FARRAGUT', 'Address_FELL', 'Address_FELTON', 'Address_FERN', 'Address_FILBERT', 'Address_FILLMORE', 'Address_FITCH', 'Address_FITZGERALD', 'Address_FLOOD', 'Address_FLORA', 'Address_FLORIDA', 'Address_FOLSOM', 'Address_FONT', 'Address_FOOTE', 'Address_FRANCE', 'Address_FRANCIS', 'Address_FRANCISCO', 'Address_FRANCONIA', 'Address_FRANKLIN', 'Address_FREDERICK', 'Address_FREMONT', 'Address_FRONT', 'Address_FULTON', 'Address_FUNSTON', 'Address_GAISER', 'Address_GALILEE', 'Address_GALLAGHER', 'Address_GALVEZ', 'Address_GAMBIER', 'Address_GARRISON', 'Address_GAVEN', 'Address_GEARY', 'Address_GENEVA', 'Address_GERMANIA', 'Address_GILMAN', 'Address_GIRARD', 'Address_GLADSTONE', 'Address_GOETTINGEN', 'Address_GOLDEN', 'Address_GOUGH', 'Address_GRANT', 'Address_GRATTAN', 'Address_GREAT', 'Address_GREEN', 'Address_GREENWICH', 'Address_GRIFFITH', 'Address_GROVE', 'Address_GUERRERO', 'Address_HAHN', 'Address_HAIGHT', 'Address_HAMILTON', 'Address_HAMPSHIRE', 'Address_HANCOCK', 'Address_HARBOR', 'Address_HARNEY', 'Address_HAROLD', 'Address_HARRIET', 'Address_HARRISON', 'Address_HARTFORD', 'Address_HARVARD', 'Address_HAWES', 'Address_HAWTHORNE', 'Address_HAYES', 'Address_HEARST', 'Address_HEMLOCK', 'Address_HENRYADAMS', 'Address_HERON', 'Address_HICKORY', 'Address_HIGHLAND', 'Address_HILL', 'Address_HOFF', 'Address_HOFFMAN', 'Address_HOLLISTER', 'Address_HOLLOWAY', 'Address_HOLYOKE', 'Address_HOWARD', 'Address_HOWTH', 'Address_HUBBELL', 'Address_HUDSON', 'Address_HUGO', 'Address_HURON', 'Address_HYDE', 'Address_ILLINOIS', 'Address_INDIANA', 'Address_INDUSTRIAL', 'Address_INGALLS', 'Address_INGERSON', 'Address_INNES', 'Address_IRON', 'Address_IRVING', 'Address_ISIS', 'Address_IVY', 'Address_JACKSON', 'Address_JAMESTOWN', 'Address_JEFFERSON', 'Address_JENNINGS', 'Address_JERROLD', 'Address_JERSEY', 'Address_JESSIE', 'Address_JOHN', 'Address_JOHNFKENNEDY', 'Address_JOHNFSHELLEY', 'Address_JOHNMUIR', 'Address_JONES', 'Address_JUANITA', 'Address_JUDAH', 'Address_JULIAN', 'Address_JUNIPERO', 'Address_KANSAS', 'Address_KEARNY', 'Address_KEITH', 'Address_KEMPTON', 'Address_KEY', 'Address_KEZAR', 'Address_KING', 'Address_KIRKHAM', 'Address_KIRKWOOD', 'Address_KISKA', 'Address_LA', 'Address_LAFAYETTE', 'Address_LAGUNA', 'Address_LAIDLEY', 'Address_LAKE', 'Address_LAKEVIEW', 'Address_LANE', 'Address_LANGTON', 'Address_LAPU-LAPU', 'Address_LARCH', 'Address_LARKIN', 'Address_LASALLE', 'Address_LASKIE', 'Address_LATHROP', 'Address_LATONA', 'Address_LAUREL', 'Address_LAWTON', 'Address_LEAVENWORTH', 'Address_LECONTE', 'Address_LEDYARD', 'Address_LEIDESDORFF', 'Address_LELAND', 'Address_LEXINGTON', 'Address_LIBERTY', 'Address_LILY', 'Address_LINCOLN', 'Address_LINDEN', 'Address_LISBON', 'Address_LOBOS', 'Address_LOMBARD', 'Address_LONDON', 'Address_LOOMIS', 'Address_LOWELL', 'Address_LUCKY', 'Address_LYON', 'Address_MADISON', 'Address_MADRID', 'Address_MAIDEN', 'Address_MAIN', 'Address_MAJESTIC', 'Address_MANSELL', 'Address_MARIN', 'Address_MARINA', 'Address_MARIPOSA', 'Address_MARKET', 'Address_MARTIN', 'Address_MARY', 'Address_MASON', 'Address_MASONIC', 'Address_MAYNARD', 'Address_MC', 'Address_MCALLISTER', 'Address_MCCOPPIN', 'Address_MCKINNON', 'Address_MEACHAM', 'Address_MENDELL', 'Address_MIDDLE', 'Address_MIDDLEPOINT', 'Address_MIDWAY', 'Address_MIGUEL', 'Address_MINERVA', 'Address_MINNA', 'Address_MINNESOTA', 'Address_MINT', 'Address_MISSION', 'Address_MISSIONROCK', 'Address_MISSISSIPPI', 'Address_MISSOURI', 'Address_MISTRAL', 'Address_MOFFITT', 'Address_MONTANA', 'Address_MONTEREY', 'Address_MONTEZUMA', 'Address_MONTGOMERY', 'Address_MORAGA', 'Address_MORRIS', 'Address_MORSE', 'Address_MOSCOW', 'Address_MOUNT', 'Address_MUNICH', 'Address_MURRAY', 'Address_MYRTLE', 'Address_NAGLEE', 'Address_NAPLES', 'Address_NAPOLEON', 'Address_NATOMA', 'Address_NAVAJO', 'Address_NEVADA', 'Address_NEW', 'Address_NEWCOMB', 'Address_NEWHALL', 'Address_NEWMONTGOMERY', 'Address_NOE', 'Address_NORIEGA', 'Address_NORTH', 'Address_NORTHPOINT', 'Address_NORTHRIDGE', 'Address_OAK', 'Address_OAKDALE', 'Address_OAKWOOD', 'Address_OCEAN', 'Address_OCTAVIA', 'Address_OFARRELL', 'Address_OLIVE', 'Address_ONONDAGA', 'Address_ORDWAY', 'Address_ORIZABA', 'Address_ORTEGA', 'Address_OSAGE', 'Address_OSHAUGHNESSY', 'Address_OTTAWA', 'Address_PACIFIC', 'Address_PAGE', 'Address_PALOU', 'Address_PANORAMA', 'Address_PARIS', 'Address_PARKPRESIDIO', 'Address_PARNASSUS', 'Address_PATTON', 'Address_PAUL', 'Address_PAULDING', 'Address_PEARL', 'Address_PENNSYLVANIA', 'Address_PERSIA', 'Address_PETERYORKE', 'Address_PHELAN', 'Address_PHELPS', 'Address_PIEDMONT', 'Address_PIERCE', 'Address_PINE', 'Address_PLYMOUTH', 'Address_POINTLOBOS', 'Address_POLK', 'Address_POND', 'Address_POPE', 'Address_PORTOLA', 'Address_POST', 'Address_POTRERO', 'Address_POWELL', 'Address_PRAGUE', 'Address_PRECITA', 'Address_PRESIDIO', 'Address_PUTNAM', 'Address_QUESADA', 'Address_QUINT', 'Address_QUINTARA', 'Address_RANDALL', 'Address_RANDOLPH', 'Address_RANKIN', 'Address_RAUSCH', 'Address_RAYMOND', 'Address_REDDY', 'Address_REDWOOD', 'Address_REVERE', 'Address_REX', 'Address_RHODE', 'Address_RHODEISLAND', 'Address_RICKARD', 'Address_RITCH', 'Address_RIVERA', 'Address_ROLPH', 'Address_ROME', 'Address_ROMOLO', 'Address_RONDEL', 'Address_ROSE', 'Address_RUSS', 'Address_RUSSIA', 'Address_SACRAMENTO', 'Address_SAGAMORE', 'Address_SAINT', 'Address_SALINAS', 'Address_SAN', 'Address_SANCARLOS', 'Address_SANCHEZ', 'Address_SANSOME', 'Address_SANTIAGO', 'Address_SANTOS', 'Address_SARGENT', 'Address_SATURN', 'Address_SAWYER', 'Address_SCHWERIN', 'Address_SCOTT', 'Address_SELBY', 'Address_SENECA', 'Address_SGTJOHNVYOUNG', 'Address_SHAFTER', 'Address_SHANNON', 'Address_SHERMAN', 'Address_SHOTWELL', 'Address_SHRADER', 'Address_SILLIMAN', 'Address_SILVER', 'Address_SKYLINEBLVD', 'Address_SLOAT', 'Address_SOMERSET', 'Address_SOUTH', 'Address_SOUTHERNHEIGHTS', 'Address_SOUTHPARK', 'Address_SPEAR', 'Address_STANYAN', 'Address_STEINER', 'Address_STERLING', 'Address_STEUART', 'Address_STEVENSON', 'Address_STILL', 'Address_STILLMAN', 'Address_STJOSEPHS', 'Address_STOCKTON', 'Address_STONEYBROOK', 'Address_SUMNER', 'Address_SUNNYDALE', 'Address_SUNSET', 'Address_SUTTER', 'Address_SWEENY', 'Address_SYCAMORE', 'Address_TALBERT', 'Address_TARAVAL', 'Address_TAYLOR', 'Address_TEHAMA', 'Address_TENNESSEE', 'Address_TEXAS', 'Address_THE', 'Address_THOMAS', 'Address_THORNTON', 'Address_THRIFT', 'Address_TOCOLOMA', 'Address_TOMPKINS', 'Address_TOPEKA', 'Address_TOWNSEND', 'Address_TRAINOR', 'Address_TREAT', 'Address_TRUMBULL', 'Address_TURK', 'Address_TURNER', 'Address_ULLOA', 'Address_UNION', 'Address_UNIVERSITY', 'Address_UTAH', 'Address_VALENCIA', 'Address_VALLEJO', 'Address_VAN', 'Address_VANDYKE', 'Address_VANNESS', 'Address_VELASCO', 'Address_VERMONT', 'Address_VICENTE', 'Address_VIENNA', 'Address_VIRGINIA', 'Address_VISITACION', 'Address_WALLER', 'Address_WASHINGTON', 'Address_WATERVILLE', 'Address_WAYLAND', 'Address_WEBSTER', 'Address_WELSH', 'Address_WESTBROOK', 'Address_WESTPORTAL', 'Address_WHITNEY', 'Address_WHITTIER', 'Address_WIESE', 'Address_WILLARD', 'Address_WILLIAMS', 'Address_WILLOW', 'Address_WINSTON', 'Address_WISCONSIN', 'Address_WOODSIDE', 'Address_WOOLSEY', 'Address_WORTH', 'Address_YORK', 'Address_YOSEMITE']\n",
      "\n",
      "Total features:  900\n"
     ]
    }
   ],
   "source": [
    "crime_df=pd.get_dummies(crime_df,columns=['Descript','DayOfWeek','PdDistrict','Resolution','Address'],\n",
    "                  drop_first=False)\n",
    "\n",
    "crime_df.head()\n",
    "\n",
    "\n",
    "new_features = list(crime_df.dtypes.index)\n",
    "new_features.remove('Category')\n",
    "\n",
    "X = crime_df[new_features]\n",
    "\n",
    "print(X)\n",
    "\n",
    "print(new_features)\n",
    "\n",
    "print(\"\\nTotal features: \", len(new_features))"
   ]
  },
  {
   "cell_type": "markdown",
   "metadata": {},
   "source": [
    "## Try Various Classifiers"
   ]
  },
  {
   "cell_type": "markdown",
   "metadata": {},
   "source": [
    "### Decision Tree"
   ]
  },
  {
   "cell_type": "code",
   "execution_count": 7,
   "metadata": {},
   "outputs": [
    {
     "name": "stdout",
     "output_type": "stream",
     "text": [
      "Decision Tree Accuracy:  0.929\n"
     ]
    }
   ],
   "source": [
    "from sklearn.tree import DecisionTreeClassifier\n",
    "\n",
    "X_train, X_test, y_train, y_test = train_test_split(X, y, test_size=0.1, random_state=1)\n",
    "\n",
    "decision_tree =  DecisionTreeClassifier(criterion='entropy', min_samples_split=4, random_state=0)\n",
    "decision_tree.fit(X_train, y_train)\n",
    "\n",
    "# predict label\n",
    "prediction = decision_tree.predict(X_test)\n",
    "\n",
    "# compare to actual label\n",
    "accuracy = accuracy_score(y_test, prediction)\n",
    "\n",
    "print(\"Decision Tree Accuracy: \", accuracy) "
   ]
  },
  {
   "cell_type": "markdown",
   "metadata": {},
   "source": [
    "### Random Forest"
   ]
  },
  {
   "cell_type": "code",
   "execution_count": 8,
   "metadata": {},
   "outputs": [
    {
     "name": "stdout",
     "output_type": "stream",
     "text": [
      "Random Forest Accuracy:  0.9425\n"
     ]
    }
   ],
   "source": [
    "from sklearn.ensemble import RandomForestClassifier\n",
    "\n",
    "X_train, X_test, y_train, y_test = train_test_split(X, y, test_size=0.1, random_state=1)\n",
    "\n",
    "random_forest =  RandomForestClassifier(n_estimators = 50, bootstrap = True, random_state=0, criterion='entropy')\n",
    "random_forest.fit(X_train, y_train)\n",
    "\n",
    "prediction = random_forest.predict(X_test)\n",
    "\n",
    "accuracy = accuracy_score(y_test, prediction)\n",
    "\n",
    "print(\"Random Forest Accuracy: \", accuracy) "
   ]
  },
  {
   "cell_type": "markdown",
   "metadata": {},
   "source": [
    "### Ada Boost"
   ]
  },
  {
   "cell_type": "code",
   "execution_count": 9,
   "metadata": {},
   "outputs": [
    {
     "name": "stdout",
     "output_type": "stream",
     "text": [
      "Ada Boost Accuracy:  0.954\n"
     ]
    }
   ],
   "source": [
    "from sklearn.ensemble import AdaBoostClassifier\n",
    "\n",
    "decision_tree = DecisionTreeClassifier()\n",
    "\n",
    "clf = AdaBoostClassifier(n_estimators=100, base_estimator=decision_tree,learning_rate=1)\n",
    "clf.fit(X_train, y_train)\n",
    "\n",
    "prediction = clf.predict(X_test)\n",
    "\n",
    "accuracy = accuracy_score(y_test, prediction)\n",
    "\n",
    "print(\"Ada Boost Accuracy: \", accuracy)"
   ]
  },
  {
   "cell_type": "markdown",
   "metadata": {},
   "source": [
    "### Logistic Regression"
   ]
  },
  {
   "cell_type": "code",
   "execution_count": 10,
   "metadata": {},
   "outputs": [
    {
     "name": "stdout",
     "output_type": "stream",
     "text": [
      "Logistic Regression Accuracy:  0.9615\n"
     ]
    }
   ],
   "source": [
    "from sklearn.linear_model import LogisticRegression\n",
    "\n",
    "logistic_regression = LogisticRegression()\n",
    "logistic_regression.fit(X_train, y_train)\n",
    "\n",
    "prediction = logistic_regression.predict(X_test)\n",
    "\n",
    "accuracy = accuracy_score(y_test, prediction)\n",
    "\n",
    "print(\"Logistic Regression Accuracy: \", accuracy)"
   ]
  },
  {
   "cell_type": "code",
   "execution_count": 11,
   "metadata": {},
   "outputs": [],
   "source": [
    "### Try Cross Validation with Logistic Regression"
   ]
  },
  {
   "cell_type": "code",
   "execution_count": 12,
   "metadata": {},
   "outputs": [
    {
     "name": "stderr",
     "output_type": "stream",
     "text": [
      "C:\\ProgramData\\Anaconda3\\lib\\site-packages\\sklearn\\model_selection\\_split.py:605: Warning: The least populated class in y has only 2 members, which is too few. The minimum number of members in any class cannot be less than n_splits=10.\n",
      "  % (min_groups, self.n_splits)), Warning)\n"
     ]
    },
    {
     "name": "stdout",
     "output_type": "stream",
     "text": [
      "Accuracy with cross validation:  0.9572052689721351\n"
     ]
    }
   ],
   "source": [
    "from sklearn.model_selection import cross_val_score\n",
    "\n",
    "accuracy_list = cross_val_score(logistic_regression, X, y, cv=10, scoring='accuracy')\n",
    "\n",
    "# accuracy average\n",
    "accuracy_crossValidation = accuracy_list.mean()\n",
    "\n",
    "print(\"Accuracy with cross validation: \", accuracy_crossValidation)"
   ]
  },
  {
   "cell_type": "markdown",
   "metadata": {},
   "source": [
    "### prediction probabilities"
   ]
  },
  {
   "cell_type": "code",
   "execution_count": 13,
   "metadata": {},
   "outputs": [
    {
     "name": "stdout",
     "output_type": "stream",
     "text": [
      "Prediction Probabilities\n",
      "\n",
      "\n",
      "[[8.91595426e-04 3.80588154e-03 1.30530874e-04 ... 4.29073453e-04\n",
      "  4.62328892e-04 2.56907673e-03]\n",
      " [1.44530717e-03 1.34956587e-02 1.99656069e-04 ... 1.49685026e-03\n",
      "  1.06092064e-03 2.82252502e-03]\n",
      " [2.55860357e-04 8.77943203e-04 1.18993249e-04 ... 4.85723532e-03\n",
      "  3.23671289e-04 7.34425928e-04]\n",
      " ...\n",
      " [3.19990337e-04 2.94473073e-03 5.24873134e-05 ... 8.98342891e-05\n",
      "  1.89950686e-03 3.45457372e-03]\n",
      " [6.68085613e-04 1.63134004e-03 2.80269603e-04 ... 5.32380748e-03\n",
      "  3.67972587e-04 8.30862319e-04]\n",
      " [4.51259814e-04 1.17352952e-03 1.34000373e-04 ... 1.44661679e-04\n",
      "  3.70589311e-04 6.26702353e-04]]\n"
     ]
    }
   ],
   "source": [
    "print(\"Prediction Probabilities\")\n",
    "\n",
    "print('\\n')\n",
    "\n",
    "y_predict_proba = logistic_regression.predict_proba(X_test)\n",
    "print(y_predict_proba)"
   ]
  },
  {
   "cell_type": "markdown",
   "metadata": {},
   "source": [
    "### show Confusion Matrix"
   ]
  },
  {
   "cell_type": "code",
   "execution_count": 14,
   "metadata": {},
   "outputs": [
    {
     "name": "stdout",
     "output_type": "stream",
     "text": [
      "confusion matrix\n",
      "                             precision    recall  f1-score   support\n",
      "\n",
      "                      ARSON       1.00      1.00      1.00         4\n",
      "                    ASSAULT       0.98      0.98      0.98       172\n",
      "                 BAD CHECKS       0.00      0.00      0.00         1\n",
      "                   BURGLARY       1.00      0.99      0.99        87\n",
      "         DISORDERLY CONDUCT       1.00      1.00      1.00        11\n",
      "DRIVING UNDER THE INFLUENCE       1.00      1.00      1.00         5\n",
      "              DRUG/NARCOTIC       0.96      0.98      0.97       127\n",
      "                DRUNKENNESS       1.00      1.00      1.00         8\n",
      "            FAMILY OFFENSES       0.00      0.00      0.00         3\n",
      "     FORGERY/COUNTERFEITING       0.96      0.96      0.96        25\n",
      "                      FRAUD       0.89      0.86      0.88        37\n",
      "                 KIDNAPPING       1.00      0.25      0.40         4\n",
      "              LARCENY/THEFT       1.00      0.97      0.98       363\n",
      "                LIQUOR LAWS       1.00      0.50      0.67         2\n",
      "                  LOITERING       1.00      0.50      0.67         2\n",
      "             MISSING PERSON       1.00      0.85      0.92        54\n",
      "               NON-CRIMINAL       0.92      0.99      0.95       217\n",
      "             OTHER OFFENSES       0.90      0.97      0.94       285\n",
      "               PROSTITUTION       0.86      0.86      0.86        14\n",
      "          RECOVERED VEHICLE       0.82      0.90      0.86        10\n",
      "                    ROBBERY       0.92      0.98      0.95        59\n",
      "                    RUNAWAY       1.00      1.00      1.00         4\n",
      "            SECONDARY CODES       1.00      1.00      1.00        25\n",
      "      SEX OFFENSES FORCIBLE       1.00      0.55      0.71        11\n",
      "            STOLEN PROPERTY       0.88      0.64      0.74        11\n",
      "             SUSPICIOUS OCC       1.00      1.00      1.00        88\n",
      "                   TRESPASS       1.00      1.00      1.00        18\n",
      "                  VANDALISM       1.00      0.99      0.99        94\n",
      "              VEHICLE THEFT       0.96      0.97      0.97       130\n",
      "                   WARRANTS       1.00      0.99      1.00       104\n",
      "                WEAPON LAWS       1.00      0.80      0.89        25\n",
      "\n",
      "                avg / total       0.96      0.96      0.96      2000\n",
      "\n"
     ]
    },
    {
     "name": "stderr",
     "output_type": "stream",
     "text": [
      "C:\\ProgramData\\Anaconda3\\lib\\site-packages\\sklearn\\metrics\\classification.py:1135: UndefinedMetricWarning: Precision and F-score are ill-defined and being set to 0.0 in labels with no predicted samples.\n",
      "  'precision', 'predicted', average, warn_for)\n"
     ]
    },
    {
     "data": {
      "text/plain": [
       "array([[  4,   0,   0,   0,   0,   0,   0,   0,   0,   0,   0,   0,   0,\n",
       "          0,   0,   0,   0,   0,   0,   0,   0,   0,   0,   0,   0,   0,\n",
       "          0,   0,   0,   0,   0],\n",
       "       [  0, 168,   0,   0,   0,   0,   0,   0,   0,   0,   0,   0,   0,\n",
       "          0,   0,   0,   0,   2,   0,   0,   2,   0,   0,   0,   0,   0,\n",
       "          0,   0,   0,   0,   0],\n",
       "       [  0,   0,   0,   0,   0,   0,   0,   0,   0,   1,   0,   0,   0,\n",
       "          0,   0,   0,   0,   0,   0,   0,   0,   0,   0,   0,   0,   0,\n",
       "          0,   0,   0,   0,   0],\n",
       "       [  0,   0,   0,  86,   0,   0,   0,   0,   0,   0,   0,   0,   0,\n",
       "          0,   0,   0,   0,   1,   0,   0,   0,   0,   0,   0,   0,   0,\n",
       "          0,   0,   0,   0,   0],\n",
       "       [  0,   0,   0,   0,  11,   0,   0,   0,   0,   0,   0,   0,   0,\n",
       "          0,   0,   0,   0,   0,   0,   0,   0,   0,   0,   0,   0,   0,\n",
       "          0,   0,   0,   0,   0],\n",
       "       [  0,   0,   0,   0,   0,   5,   0,   0,   0,   0,   0,   0,   0,\n",
       "          0,   0,   0,   0,   0,   0,   0,   0,   0,   0,   0,   0,   0,\n",
       "          0,   0,   0,   0,   0],\n",
       "       [  0,   0,   0,   0,   0,   0, 124,   0,   0,   0,   0,   0,   0,\n",
       "          0,   0,   0,   0,   3,   0,   0,   0,   0,   0,   0,   0,   0,\n",
       "          0,   0,   0,   0,   0],\n",
       "       [  0,   0,   0,   0,   0,   0,   0,   8,   0,   0,   0,   0,   0,\n",
       "          0,   0,   0,   0,   0,   0,   0,   0,   0,   0,   0,   0,   0,\n",
       "          0,   0,   0,   0,   0],\n",
       "       [  0,   0,   0,   0,   0,   0,   0,   0,   0,   0,   0,   0,   0,\n",
       "          0,   0,   0,   3,   0,   0,   0,   0,   0,   0,   0,   0,   0,\n",
       "          0,   0,   0,   0,   0],\n",
       "       [  0,   0,   0,   0,   0,   0,   0,   0,   0,  24,   0,   0,   0,\n",
       "          0,   0,   0,   0,   1,   0,   0,   0,   0,   0,   0,   0,   0,\n",
       "          0,   0,   0,   0,   0],\n",
       "       [  0,   0,   0,   0,   0,   0,   0,   0,   0,   0,  32,   0,   0,\n",
       "          0,   0,   0,   0,   5,   0,   0,   0,   0,   0,   0,   0,   0,\n",
       "          0,   0,   0,   0,   0],\n",
       "       [  0,   0,   0,   0,   0,   0,   0,   0,   0,   0,   0,   1,   0,\n",
       "          0,   0,   0,   0,   3,   0,   0,   0,   0,   0,   0,   0,   0,\n",
       "          0,   0,   0,   0,   0],\n",
       "       [  0,   0,   0,   0,   0,   0,   0,   0,   0,   0,   0,   0, 353,\n",
       "          0,   0,   0,   5,   2,   0,   0,   3,   0,   0,   0,   0,   0,\n",
       "          0,   0,   0,   0,   0],\n",
       "       [  0,   0,   0,   0,   0,   0,   1,   0,   0,   0,   0,   0,   0,\n",
       "          1,   0,   0,   0,   0,   0,   0,   0,   0,   0,   0,   0,   0,\n",
       "          0,   0,   0,   0,   0],\n",
       "       [  0,   0,   0,   0,   0,   0,   0,   0,   0,   0,   0,   0,   0,\n",
       "          0,   1,   0,   0,   1,   0,   0,   0,   0,   0,   0,   0,   0,\n",
       "          0,   0,   0,   0,   0],\n",
       "       [  0,   0,   0,   0,   0,   0,   0,   0,   0,   0,   0,   0,   0,\n",
       "          0,   0,  46,   8,   0,   0,   0,   0,   0,   0,   0,   0,   0,\n",
       "          0,   0,   0,   0,   0],\n",
       "       [  0,   0,   0,   0,   0,   0,   0,   0,   0,   0,   0,   0,   0,\n",
       "          0,   0,   0, 214,   3,   0,   0,   0,   0,   0,   0,   0,   0,\n",
       "          0,   0,   0,   0,   0],\n",
       "       [  0,   0,   0,   0,   0,   0,   4,   0,   0,   0,   4,   0,   0,\n",
       "          0,   0,   0,   1, 276,   0,   0,   0,   0,   0,   0,   0,   0,\n",
       "          0,   0,   0,   0,   0],\n",
       "       [  0,   0,   0,   0,   0,   0,   0,   0,   0,   0,   0,   0,   0,\n",
       "          0,   0,   0,   0,   2,  12,   0,   0,   0,   0,   0,   0,   0,\n",
       "          0,   0,   0,   0,   0],\n",
       "       [  0,   0,   0,   0,   0,   0,   0,   0,   0,   0,   0,   0,   0,\n",
       "          0,   0,   0,   0,   0,   0,   9,   0,   0,   0,   0,   0,   0,\n",
       "          0,   0,   1,   0,   0],\n",
       "       [  0,   0,   0,   0,   0,   0,   0,   0,   0,   0,   0,   0,   1,\n",
       "          0,   0,   0,   0,   0,   0,   0,  58,   0,   0,   0,   0,   0,\n",
       "          0,   0,   0,   0,   0],\n",
       "       [  0,   0,   0,   0,   0,   0,   0,   0,   0,   0,   0,   0,   0,\n",
       "          0,   0,   0,   0,   0,   0,   0,   0,   4,   0,   0,   0,   0,\n",
       "          0,   0,   0,   0,   0],\n",
       "       [  0,   0,   0,   0,   0,   0,   0,   0,   0,   0,   0,   0,   0,\n",
       "          0,   0,   0,   0,   0,   0,   0,   0,   0,  25,   0,   0,   0,\n",
       "          0,   0,   0,   0,   0],\n",
       "       [  0,   4,   0,   0,   0,   0,   0,   0,   0,   0,   0,   0,   0,\n",
       "          0,   0,   0,   0,   1,   0,   0,   0,   0,   0,   6,   0,   0,\n",
       "          0,   0,   0,   0,   0],\n",
       "       [  0,   0,   0,   0,   0,   0,   0,   0,   0,   0,   0,   0,   0,\n",
       "          0,   0,   0,   0,   0,   0,   0,   0,   0,   0,   0,   7,   0,\n",
       "          0,   0,   4,   0,   0],\n",
       "       [  0,   0,   0,   0,   0,   0,   0,   0,   0,   0,   0,   0,   0,\n",
       "          0,   0,   0,   0,   0,   0,   0,   0,   0,   0,   0,   0,  88,\n",
       "          0,   0,   0,   0,   0],\n",
       "       [  0,   0,   0,   0,   0,   0,   0,   0,   0,   0,   0,   0,   0,\n",
       "          0,   0,   0,   0,   0,   0,   0,   0,   0,   0,   0,   0,   0,\n",
       "         18,   0,   0,   0,   0],\n",
       "       [  0,   0,   0,   0,   0,   0,   0,   0,   0,   0,   0,   0,   0,\n",
       "          0,   0,   0,   0,   1,   0,   0,   0,   0,   0,   0,   0,   0,\n",
       "          0,  93,   0,   0,   0],\n",
       "       [  0,   0,   0,   0,   0,   0,   0,   0,   0,   0,   0,   0,   0,\n",
       "          0,   0,   0,   0,   1,   0,   2,   0,   0,   0,   0,   1,   0,\n",
       "          0,   0, 126,   0,   0],\n",
       "       [  0,   0,   0,   0,   0,   0,   0,   0,   0,   0,   0,   0,   0,\n",
       "          0,   0,   0,   0,   1,   0,   0,   0,   0,   0,   0,   0,   0,\n",
       "          0,   0,   0, 103,   0],\n",
       "       [  0,   0,   0,   0,   0,   0,   0,   0,   0,   0,   0,   0,   0,\n",
       "          0,   0,   0,   1,   2,   2,   0,   0,   0,   0,   0,   0,   0,\n",
       "          0,   0,   0,   0,  20]], dtype=int64)"
      ]
     },
     "execution_count": 14,
     "metadata": {},
     "output_type": "execute_result"
    }
   ],
   "source": [
    "from sklearn import metrics\n",
    "\n",
    "print(\"confusion matrix\")\n",
    "\n",
    "print(metrics.classification_report(y_test, prediction))\n",
    "\n",
    "metrics.confusion_matrix(y_test, prediction)"
   ]
  },
  {
   "cell_type": "markdown",
   "metadata": {},
   "source": [
    "### SVM"
   ]
  },
  {
   "cell_type": "code",
   "execution_count": 15,
   "metadata": {},
   "outputs": [
    {
     "name": "stdout",
     "output_type": "stream",
     "text": [
      "SVM Accuracy:  0.9642\n"
     ]
    }
   ],
   "source": [
    "from sklearn.svm import SVC\n",
    "from sklearn import svm\n",
    "\n",
    "X_train, X_test, y_train, y_test = train_test_split(X, y, random_state=0)\n",
    "\n",
    "clf = svm.SVC(kernel='linear', C=1).fit(X_train, y_train)\n",
    "\n",
    "accuracy = clf.score(X_test, y_test)\n",
    "\n",
    "print(\"SVM Accuracy: \", accuracy)"
   ]
  },
  {
   "cell_type": "markdown",
   "metadata": {},
   "source": [
    "### K - Nearest Neighbors"
   ]
  },
  {
   "cell_type": "code",
   "execution_count": 16,
   "metadata": {},
   "outputs": [
    {
     "ename": "NameError",
     "evalue": "name 'y_predict' is not defined",
     "output_type": "error",
     "traceback": [
      "\u001b[1;31m---------------------------------------------------------------------------\u001b[0m",
      "\u001b[1;31mNameError\u001b[0m                                 Traceback (most recent call last)",
      "\u001b[1;32m<ipython-input-16-89a58ce13c2c>\u001b[0m in \u001b[0;36m<module>\u001b[1;34m()\u001b[0m\n\u001b[0;32m      9\u001b[0m \u001b[0mprediction\u001b[0m \u001b[1;33m=\u001b[0m \u001b[0mknn\u001b[0m\u001b[1;33m.\u001b[0m\u001b[0mpredict\u001b[0m\u001b[1;33m(\u001b[0m\u001b[0mX_test\u001b[0m\u001b[1;33m)\u001b[0m\u001b[1;33m\u001b[0m\u001b[0m\n\u001b[0;32m     10\u001b[0m \u001b[1;33m\u001b[0m\u001b[0m\n\u001b[1;32m---> 11\u001b[1;33m \u001b[0maccuracy\u001b[0m \u001b[1;33m=\u001b[0m \u001b[0maccuracy_score\u001b[0m\u001b[1;33m(\u001b[0m\u001b[0my_test\u001b[0m\u001b[1;33m,\u001b[0m \u001b[0my_predict\u001b[0m\u001b[1;33m)\u001b[0m\u001b[1;33m\u001b[0m\u001b[0m\n\u001b[0m\u001b[0;32m     12\u001b[0m \u001b[1;33m\u001b[0m\u001b[0m\n\u001b[0;32m     13\u001b[0m \u001b[0mprint\u001b[0m\u001b[1;33m(\u001b[0m\u001b[1;34m\"KNN Accuracy: \"\u001b[0m\u001b[1;33m,\u001b[0m \u001b[0maccuracy\u001b[0m\u001b[1;33m)\u001b[0m\u001b[1;33m\u001b[0m\u001b[0m\n",
      "\u001b[1;31mNameError\u001b[0m: name 'y_predict' is not defined"
     ]
    }
   ],
   "source": [
    "from sklearn.neighbors import KNeighborsClassifier\n",
    "\n",
    "k=50\n",
    "X_train, X_test, y_train, y_test = train_test_split(X, y, test_size = 0.3, random_state=0)\n",
    "\n",
    "knn = KNeighborsClassifier(n_neighbors=k)\n",
    "knn.fit(X_train, y_train)\n",
    "\n",
    "prediction = knn.predict(X_test)\n",
    "\n",
    "accuracy = accuracy_score(y_test, y_predict)\n",
    "\n",
    "print(\"KNN Accuracy: \", accuracy)"
   ]
  },
  {
   "cell_type": "markdown",
   "metadata": {},
   "source": [
    "### Neural Networks"
   ]
  },
  {
   "cell_type": "code",
   "execution_count": null,
   "metadata": {},
   "outputs": [],
   "source": [
    "from sklearn.neural_network import MLPClassifier\n",
    "\n",
    "X_train, X_test, y_train, y_test = train_test_split(X, y,test_size = 0.3, random_state=0)\n",
    "\n",
    "clf = MLPClassifier(solver='lbfgs',hidden_layer_sizes=(8), random_state=0)\n",
    "clf.fit(X_train,y_train)\n",
    "\n",
    "prediction = clf.predict(X_test)\n",
    "\n",
    "accuracy = accuracy_score(y_test, prediction)\n",
    "\n",
    "print(\"Neural Networks Accuracy: \", accuracy)"
   ]
  },
  {
   "cell_type": "markdown",
   "metadata": {},
   "source": [
    "### ANN"
   ]
  },
  {
   "cell_type": "code",
   "execution_count": null,
   "metadata": {},
   "outputs": [],
   "source": [
    "from sklearn.neural_network import MLPClassifier\n",
    "\n",
    "# ANN is an instance of MLPClassifier class\n",
    "ANN = MLPClassifier(hidden_layer_sizes=(80,), activation= 'logistic', solver='adam', alpha=1e-5, \n",
    "                       random_state=1, learning_rate_init = 0.002)\n",
    "\n",
    "\n",
    "ANN.fit(X_train, y_train)\n",
    "\n",
    "prediction = ANN.predict(X_test)\n",
    "\n",
    "accuracy = accuracy_score(y_test, prediction)\n",
    "\n",
    "print(\"ANN Accuracy: \", accuracy)"
   ]
  },
  {
   "cell_type": "markdown",
   "metadata": {
    "collapsed": true
   },
   "source": [
    "### Naive Bayes"
   ]
  },
  {
   "cell_type": "code",
   "execution_count": null,
   "metadata": {},
   "outputs": [],
   "source": [
    "X_train, X_test, y_train, y_test = train_test_split(X, y, test_size=0.06, random_state=1)"
   ]
  },
  {
   "cell_type": "code",
   "execution_count": null,
   "metadata": {},
   "outputs": [],
   "source": [
    "decision_tree =  DecisionTreeClassifier(criterion='entropy')\n",
    "\n",
    "decision_tree.fit(X_train, y_train)\n",
    "prediction = decision_tree.predict(X_test)\n",
    "\n",
    "accuracy = accuracy_score(y_test, prediction)\n",
    "\n",
    "print(\"Decision Tree Accuracy: \", accuracy, \"\\n\") "
   ]
  },
  {
   "cell_type": "code",
   "execution_count": null,
   "metadata": {},
   "outputs": [],
   "source": []
  }
 ],
 "metadata": {
  "kernelspec": {
   "display_name": "Python 3",
   "language": "python",
   "name": "python3"
  },
  "language_info": {
   "codemirror_mode": {
    "name": "ipython",
    "version": 3
   },
   "file_extension": ".py",
   "mimetype": "text/x-python",
   "name": "python",
   "nbconvert_exporter": "python",
   "pygments_lexer": "ipython3",
   "version": "3.6.4"
  }
 },
 "nbformat": 4,
 "nbformat_minor": 2
}
